{
 "cells": [
  {
   "cell_type": "markdown",
   "metadata": {
    "extensions": {
     "jupyter_dashboards": {
      "version": 1,
      "views": {
       "grid_default": {},
       "report_default": {
        "hidden": false
       }
      }
     }
    }
   },
   "source": [
    "# BANA7038 Data Analysis Methods Homework1"
   ]
  },
  {
   "cell_type": "markdown",
   "metadata": {
    "extensions": {
     "jupyter_dashboards": {
      "version": 1,
      "views": {
       "grid_default": {},
       "report_default": {
        "hidden": false
       }
      }
     }
    }
   },
   "source": [
    "### 1. Import the CSV file ‘car_r.csv’ using the function “read.table()” or “read.csv()”. Where to find the instruction on how to use the functions?\n",
    "\n",
    "### *Answer:*\n",
    "I use the following command to import the 'car_r.csv' file. The instruction about the functions can be found __[here](https://cran.r-project.org/doc/manuals/r-release/R-intro.html#Reading-data-from-files)__."
   ]
  },
  {
   "cell_type": "code",
   "execution_count": 1,
   "metadata": {
    "extensions": {
     "jupyter_dashboards": {
      "version": 1,
      "views": {
       "grid_default": {},
       "report_default": {
        "hidden": false
       }
      }
     }
    }
   },
   "outputs": [
    {
     "data": {
      "text/html": [
       "<table>\n",
       "<thead><tr><th scope=col>brand</th><th scope=col>mileage</th><th scope=col>num_accidents</th><th scope=col>num_passengers</th><th scope=col>speed_car</th><th scope=col>speed_air</th><th scope=col>height</th><th scope=col>width</th><th scope=col>ABS</th></tr></thead>\n",
       "<tbody>\n",
       "\t<tr><td>Ford       </td><td>36696.57   </td><td>2          </td><td> 6         </td><td>59.26462   </td><td>-3.28547256</td><td>7.938580   </td><td>6.069673   </td><td> TRUE      </td></tr>\n",
       "\t<tr><td>Toyota     </td><td>20618.62   </td><td>2          </td><td>14         </td><td>38.21588   </td><td>-2.79019074</td><td>5.997753   </td><td>6.170255   </td><td> TRUE      </td></tr>\n",
       "\t<tr><td>Ford       </td><td>21003.26   </td><td>2          </td><td> 8         </td><td>39.18807   </td><td>-0.26558119</td><td>7.857335   </td><td>6.777170   </td><td>FALSE      </td></tr>\n",
       "\t<tr><td>GM         </td><td>      NA   </td><td>0          </td><td> 5         </td><td>36.38138   </td><td>-1.35033786</td><td>5.691600   </td><td>5.848215   </td><td> TRUE      </td></tr>\n",
       "\t<tr><td>Ford       </td><td>27488.80   </td><td>3          </td><td> 6         </td><td>49.22647   </td><td>-0.06738388</td><td>6.050838   </td><td>6.389353   </td><td>FALSE      </td></tr>\n",
       "\t<tr><td>Ford       </td><td>      NA   </td><td>0          </td><td>10         </td><td>60.68898   </td><td>-0.92135848</td><td>4.435193   </td><td>5.711845   </td><td>FALSE      </td></tr>\n",
       "</tbody>\n",
       "</table>\n"
      ],
      "text/latex": [
       "\\begin{tabular}{r|lllllllll}\n",
       " brand & mileage & num\\_accidents & num\\_passengers & speed\\_car & speed\\_air & height & width & ABS\\\\\n",
       "\\hline\n",
       "\t Ford        & 36696.57    & 2           &  6          & 59.26462    & -3.28547256 & 7.938580    & 6.069673    &  TRUE      \\\\\n",
       "\t Toyota      & 20618.62    & 2           & 14          & 38.21588    & -2.79019074 & 5.997753    & 6.170255    &  TRUE      \\\\\n",
       "\t Ford        & 21003.26    & 2           &  8          & 39.18807    & -0.26558119 & 7.857335    & 6.777170    & FALSE      \\\\\n",
       "\t GM          &       NA    & 0           &  5          & 36.38138    & -1.35033786 & 5.691600    & 5.848215    &  TRUE      \\\\\n",
       "\t Ford        & 27488.80    & 3           &  6          & 49.22647    & -0.06738388 & 6.050838    & 6.389353    & FALSE      \\\\\n",
       "\t Ford        &       NA    & 0           & 10          & 60.68898    & -0.92135848 & 4.435193    & 5.711845    & FALSE      \\\\\n",
       "\\end{tabular}\n"
      ],
      "text/markdown": [
       "\n",
       "| brand | mileage | num_accidents | num_passengers | speed_car | speed_air | height | width | ABS |\n",
       "|---|---|---|---|---|---|---|---|---|\n",
       "| Ford        | 36696.57    | 2           |  6          | 59.26462    | -3.28547256 | 7.938580    | 6.069673    |  TRUE       |\n",
       "| Toyota      | 20618.62    | 2           | 14          | 38.21588    | -2.79019074 | 5.997753    | 6.170255    |  TRUE       |\n",
       "| Ford        | 21003.26    | 2           |  8          | 39.18807    | -0.26558119 | 7.857335    | 6.777170    | FALSE       |\n",
       "| GM          |       NA    | 0           |  5          | 36.38138    | -1.35033786 | 5.691600    | 5.848215    |  TRUE       |\n",
       "| Ford        | 27488.80    | 3           |  6          | 49.22647    | -0.06738388 | 6.050838    | 6.389353    | FALSE       |\n",
       "| Ford        |       NA    | 0           | 10          | 60.68898    | -0.92135848 | 4.435193    | 5.711845    | FALSE       |\n",
       "\n"
      ],
      "text/plain": [
       "  brand  mileage  num_accidents num_passengers speed_car speed_air   height  \n",
       "1 Ford   36696.57 2              6             59.26462  -3.28547256 7.938580\n",
       "2 Toyota 20618.62 2             14             38.21588  -2.79019074 5.997753\n",
       "3 Ford   21003.26 2              8             39.18807  -0.26558119 7.857335\n",
       "4 GM           NA 0              5             36.38138  -1.35033786 5.691600\n",
       "5 Ford   27488.80 3              6             49.22647  -0.06738388 6.050838\n",
       "6 Ford         NA 0             10             60.68898  -0.92135848 4.435193\n",
       "  width    ABS  \n",
       "1 6.069673  TRUE\n",
       "2 6.170255  TRUE\n",
       "3 6.777170 FALSE\n",
       "4 5.848215  TRUE\n",
       "5 6.389353 FALSE\n",
       "6 5.711845 FALSE"
      ]
     },
     "metadata": {},
     "output_type": "display_data"
    }
   ],
   "source": [
    "data <- read.csv('car_r.csv')\n",
    "head(data)"
   ]
  },
  {
   "cell_type": "markdown",
   "metadata": {
    "extensions": {
     "jupyter_dashboards": {
      "version": 1,
      "views": {
       "grid_default": {},
       "report_default": {
        "hidden": false
       }
      }
     }
    }
   },
   "source": [
    "As we can see, the 'car_r.csv' file has been imported into the r dataframe."
   ]
  },
  {
   "cell_type": "markdown",
   "metadata": {
    "extensions": {
     "jupyter_dashboards": {
      "version": 1,
      "views": {
       "grid_default": {},
       "report_default": {
        "hidden": false
       }
      }
     }
    }
   },
   "source": [
    "### 2. How many variables in the data set? What are their names?\n",
    "### *Answer:*\n",
    "I use the following code to display the number of variables and their names."
   ]
  },
  {
   "cell_type": "code",
   "execution_count": 2,
   "metadata": {
    "extensions": {
     "jupyter_dashboards": {
      "version": 1,
      "views": {
       "grid_default": {},
       "report_default": {
        "hidden": false
       }
      }
     }
    }
   },
   "outputs": [
    {
     "data": {
      "text/html": [
       "9"
      ],
      "text/latex": [
       "9"
      ],
      "text/markdown": [
       "9"
      ],
      "text/plain": [
       "[1] 9"
      ]
     },
     "metadata": {},
     "output_type": "display_data"
    }
   ],
   "source": [
    "ncol(data)"
   ]
  },
  {
   "cell_type": "code",
   "execution_count": 3,
   "metadata": {
    "extensions": {
     "jupyter_dashboards": {
      "version": 1,
      "views": {
       "grid_default": {},
       "report_default": {
        "hidden": false
       }
      }
     }
    }
   },
   "outputs": [
    {
     "data": {
      "text/html": [
       "<ol class=list-inline>\n",
       "\t<li>'brand'</li>\n",
       "\t<li>'mileage'</li>\n",
       "\t<li>'num_accidents'</li>\n",
       "\t<li>'num_passengers'</li>\n",
       "\t<li>'speed_car'</li>\n",
       "\t<li>'speed_air'</li>\n",
       "\t<li>'height'</li>\n",
       "\t<li>'width'</li>\n",
       "\t<li>'ABS'</li>\n",
       "</ol>\n"
      ],
      "text/latex": [
       "\\begin{enumerate*}\n",
       "\\item 'brand'\n",
       "\\item 'mileage'\n",
       "\\item 'num\\_accidents'\n",
       "\\item 'num\\_passengers'\n",
       "\\item 'speed\\_car'\n",
       "\\item 'speed\\_air'\n",
       "\\item 'height'\n",
       "\\item 'width'\n",
       "\\item 'ABS'\n",
       "\\end{enumerate*}\n"
      ],
      "text/markdown": [
       "1. 'brand'\n",
       "2. 'mileage'\n",
       "3. 'num_accidents'\n",
       "4. 'num_passengers'\n",
       "5. 'speed_car'\n",
       "6. 'speed_air'\n",
       "7. 'height'\n",
       "8. 'width'\n",
       "9. 'ABS'\n",
       "\n",
       "\n"
      ],
      "text/plain": [
       "[1] \"brand\"          \"mileage\"        \"num_accidents\"  \"num_passengers\"\n",
       "[5] \"speed_car\"      \"speed_air\"      \"height\"         \"width\"         \n",
       "[9] \"ABS\"           "
      ]
     },
     "metadata": {},
     "output_type": "display_data"
    }
   ],
   "source": [
    "colnames(data)"
   ]
  },
  {
   "cell_type": "markdown",
   "metadata": {
    "extensions": {
     "jupyter_dashboards": {
      "version": 1,
      "views": {
       "grid_default": {},
       "report_default": {
        "hidden": false
       }
      }
     }
    }
   },
   "source": [
    "As we can see, there are 9 variables in total and they are listed above."
   ]
  },
  {
   "cell_type": "markdown",
   "metadata": {
    "extensions": {
     "jupyter_dashboards": {
      "version": 1,
      "views": {
       "grid_default": {},
       "report_default": {
        "hidden": false
       }
      }
     }
    }
   },
   "source": [
    "### 3. How many observations in total? How many observations for Ford?\n",
    "### *Answer:*\n",
    "I use the following code to display the number of observations in total and for Ford."
   ]
  },
  {
   "cell_type": "code",
   "execution_count": 4,
   "metadata": {
    "extensions": {
     "jupyter_dashboards": {
      "version": 1,
      "views": {
       "grid_default": {},
       "report_default": {
        "hidden": false
       }
      }
     }
    }
   },
   "outputs": [
    {
     "data": {
      "text/html": [
       "500"
      ],
      "text/latex": [
       "500"
      ],
      "text/markdown": [
       "500"
      ],
      "text/plain": [
       "[1] 500"
      ]
     },
     "metadata": {},
     "output_type": "display_data"
    }
   ],
   "source": [
    "nrow(data)"
   ]
  },
  {
   "cell_type": "code",
   "execution_count": 5,
   "metadata": {
    "extensions": {
     "jupyter_dashboards": {
      "version": 1,
      "views": {
       "grid_default": {},
       "report_default": {
        "hidden": false
       }
      }
     }
    }
   },
   "outputs": [
    {
     "data": {
      "text/html": [
       "275"
      ],
      "text/latex": [
       "275"
      ],
      "text/markdown": [
       "275"
      ],
      "text/plain": [
       "[1] 275"
      ]
     },
     "metadata": {},
     "output_type": "display_data"
    }
   ],
   "source": [
    "nrow(data[data$brand == 'Ford',])"
   ]
  },
  {
   "cell_type": "markdown",
   "metadata": {
    "extensions": {
     "jupyter_dashboards": {
      "version": 1,
      "views": {
       "grid_default": {},
       "report_default": {
        "hidden": false
       }
      }
     }
    }
   },
   "source": [
    "As we can see, there are 500 observations in total and 275 of them are Ford."
   ]
  },
  {
   "cell_type": "markdown",
   "metadata": {
    "extensions": {
     "jupyter_dashboards": {
      "version": 1,
      "views": {
       "grid_default": {},
       "report_default": {
        "hidden": false
       }
      }
     }
    }
   },
   "source": [
    "### 4. Calculate the mean for each of the car parameters (measures).  Please also report the corresponding standard deviation.\n",
    "### *Answer:*\n",
    "I use the following code to calculate the mean and corresponding standard deviation of the car parameters. Before calculation, I need to replace all the NA with 0 to avoid "
   ]
  },
  {
   "cell_type": "code",
   "execution_count": 6,
   "metadata": {
    "extensions": {
     "jupyter_dashboards": {
      "version": 1,
      "views": {
       "grid_default": {},
       "report_default": {
        "hidden": false
       }
      }
     }
    }
   },
   "outputs": [
    {
     "name": "stdout",
     "output_type": "stream",
     "text": [
      "[1] \"The mean of mileage is 39564.6303933777\"\n",
      "[1] \"The standard deviation of mileage is 10819.6808150253\"\n",
      "[1] \"The mean of num_accidents is 2.154\"\n",
      "[1] \"The standard deviation of num_accidents is 1.42349452873789\"\n",
      "[1] \"The mean of num_passengers is 6.69\"\n",
      "[1] \"The standard deviation of num_passengers is 3.74298274637746\"\n",
      "[1] \"The mean of speed_car is 50.0596379479958\"\n",
      "[1] \"The standard deviation of speed_car is 9.77354044283966\"\n",
      "[1] \"The mean of speed_air is 0.245481955524192\"\n",
      "[1] \"The standard deviation of speed_air is 3.08435340345378\"\n",
      "[1] \"The mean of height is 5.91416373436564\"\n",
      "[1] \"The standard deviation of height is 1.0548824699477\"\n",
      "[1] \"The mean of width is 6.01366743910377\"\n",
      "[1] \"The standard deviation of width is 0.471457196975971\"\n"
     ]
    }
   ],
   "source": [
    "for (i in seq(2,8,1)){\n",
    "    print(paste0('The mean of ', colnames(data)[i], ' is ', mean(data[,i], na.rm = TRUE)))\n",
    "    print(paste0('The standard deviation of ', colnames(data)[i], ' is ', sd(data[,i], na.rm = TRUE)))\n",
    "}"
   ]
  },
  {
   "cell_type": "markdown",
   "metadata": {
    "extensions": {
     "jupyter_dashboards": {
      "version": 1,
      "views": {
       "grid_default": {},
       "report_default": {
        "hidden": false
       }
      }
     }
    }
   },
   "source": [
    "As we can see the mean and standard deviation of car parameters are shown above."
   ]
  },
  {
   "cell_type": "markdown",
   "metadata": {
    "extensions": {
     "jupyter_dashboards": {
      "version": 1,
      "views": {
       "grid_default": {},
       "report_default": {
        "hidden": false
       }
      }
     }
    }
   },
   "source": [
    "### 5. Obtain the histogram for each of the car parameters. \n",
    "### *Answer:*\n",
    "I use the following code to generate the histogram. I use na,omit() function here to omit all the NAs when plotting each car parameter."
   ]
  },
  {
   "cell_type": "code",
   "execution_count": 20,
   "metadata": {
    "extensions": {
     "jupyter_dashboards": {
      "version": 1,
      "views": {
       "grid_default": {},
       "report_default": {
        "hidden": true
       }
      }
     }
    }
   },
   "outputs": [
    {
     "data": {
      "image/png": "[encoded data removed]",
      "text/plain": [
       "Plot with title \"Histogram of width\""
      ]
     },
     "metadata": {},
     "output_type": "display_data"
    }
   ],
   "source": [
    "par(mfrow=c(4,2))\n",
    "for (i in seq(2,8,1)){\n",
    "    hist(na.omit(data[,i]), main=paste0('Histogram of ', colnames(data)[i]), xlab=colnames(data)[i])\n",
    "}"
   ]
  },
  {
   "cell_type": "markdown",
   "metadata": {},
   "source": [
    "The histograms of car parameters are shown above."
   ]
  },
  {
   "cell_type": "markdown",
   "metadata": {
    "extensions": {
     "jupyter_dashboards": {
      "version": 1,
      "views": {
       "grid_default": {},
       "report_default": {
        "hidden": false
       }
      }
     }
    }
   },
   "source": [
    "### 6. Is there any missing value in the data set? If yes, which variable? What is the proportion of missing values?\n",
    "### *Answer:*\n",
    "Yes, there are many missing values in the dataset. I use the following code to get the proportion of missing values for each variable."
   ]
  },
  {
   "cell_type": "code",
   "execution_count": 8,
   "metadata": {},
   "outputs": [
    {
     "data": {
      "text/html": [
       "'mileage'"
      ],
      "text/latex": [
       "'mileage'"
      ],
      "text/markdown": [
       "'mileage'"
      ],
      "text/plain": [
       "[1] \"mileage\""
      ]
     },
     "metadata": {},
     "output_type": "display_data"
    }
   ],
   "source": [
    "colnames(data)[colSums(is.na(data)) > 0]"
   ]
  },
  {
   "cell_type": "code",
   "execution_count": 9,
   "metadata": {},
   "outputs": [
    {
     "name": "stdout",
     "output_type": "stream",
     "text": [
      "[1] \"The proportion of missing values in variable mileage is 0.2\"\n"
     ]
    }
   ],
   "source": [
    "print(paste0('The proportion of missing values in variable mileage is ', sum(is.na(data$mileage))/nrow(data)))"
   ]
  },
  {
   "cell_type": "markdown",
   "metadata": {},
   "source": [
    "As we can see the variable mileage has missing values and the proportion of the missing values is 0.2."
   ]
  },
  {
   "cell_type": "markdown",
   "metadata": {
    "extensions": {
     "jupyter_dashboards": {
      "version": 1,
      "views": {
       "grid_default": {},
       "report_default": {
        "hidden": false
       }
      }
     }
    }
   },
   "source": [
    "### 7. Calculate the relative speed of the car (defined as = speed_car + speed_air, where speed_car is always positive and speed_air can be positive or negative). What is the average relative speed of the car?\n",
    "### *Answer:*\n",
    "I use the following code to calculate the relative speed and put it into the dataframe. "
   ]
  },
  {
   "cell_type": "code",
   "execution_count": 10,
   "metadata": {},
   "outputs": [
    {
     "data": {
      "text/html": [
       "<table>\n",
       "<thead><tr><th scope=col>brand</th><th scope=col>mileage</th><th scope=col>num_accidents</th><th scope=col>num_passengers</th><th scope=col>speed_car</th><th scope=col>speed_air</th><th scope=col>height</th><th scope=col>width</th><th scope=col>ABS</th><th scope=col>speed_rel</th></tr></thead>\n",
       "<tbody>\n",
       "\t<tr><td>Ford       </td><td>36696.57   </td><td>2          </td><td> 6         </td><td>59.26462   </td><td>-3.28547256</td><td>7.938580   </td><td>6.069673   </td><td> TRUE      </td><td>55.97915   </td></tr>\n",
       "\t<tr><td>Toyota     </td><td>20618.62   </td><td>2          </td><td>14         </td><td>38.21588   </td><td>-2.79019074</td><td>5.997753   </td><td>6.170255   </td><td> TRUE      </td><td>35.42568   </td></tr>\n",
       "\t<tr><td>Ford       </td><td>21003.26   </td><td>2          </td><td> 8         </td><td>39.18807   </td><td>-0.26558119</td><td>7.857335   </td><td>6.777170   </td><td>FALSE      </td><td>38.92249   </td></tr>\n",
       "\t<tr><td>GM         </td><td>      NA   </td><td>0          </td><td> 5         </td><td>36.38138   </td><td>-1.35033786</td><td>5.691600   </td><td>5.848215   </td><td> TRUE      </td><td>35.03104   </td></tr>\n",
       "\t<tr><td>Ford       </td><td>27488.80   </td><td>3          </td><td> 6         </td><td>49.22647   </td><td>-0.06738388</td><td>6.050838   </td><td>6.389353   </td><td>FALSE      </td><td>49.15909   </td></tr>\n",
       "\t<tr><td>Ford       </td><td>      NA   </td><td>0          </td><td>10         </td><td>60.68898   </td><td>-0.92135848</td><td>4.435193   </td><td>5.711845   </td><td>FALSE      </td><td>59.76762   </td></tr>\n",
       "</tbody>\n",
       "</table>\n"
      ],
      "text/latex": [
       "\\begin{tabular}{r|llllllllll}\n",
       " brand & mileage & num\\_accidents & num\\_passengers & speed\\_car & speed\\_air & height & width & ABS & speed\\_rel\\\\\n",
       "\\hline\n",
       "\t Ford        & 36696.57    & 2           &  6          & 59.26462    & -3.28547256 & 7.938580    & 6.069673    &  TRUE       & 55.97915   \\\\\n",
       "\t Toyota      & 20618.62    & 2           & 14          & 38.21588    & -2.79019074 & 5.997753    & 6.170255    &  TRUE       & 35.42568   \\\\\n",
       "\t Ford        & 21003.26    & 2           &  8          & 39.18807    & -0.26558119 & 7.857335    & 6.777170    & FALSE       & 38.92249   \\\\\n",
       "\t GM          &       NA    & 0           &  5          & 36.38138    & -1.35033786 & 5.691600    & 5.848215    &  TRUE       & 35.03104   \\\\\n",
       "\t Ford        & 27488.80    & 3           &  6          & 49.22647    & -0.06738388 & 6.050838    & 6.389353    & FALSE       & 49.15909   \\\\\n",
       "\t Ford        &       NA    & 0           & 10          & 60.68898    & -0.92135848 & 4.435193    & 5.711845    & FALSE       & 59.76762   \\\\\n",
       "\\end{tabular}\n"
      ],
      "text/markdown": [
       "\n",
       "| brand | mileage | num_accidents | num_passengers | speed_car | speed_air | height | width | ABS | speed_rel |\n",
       "|---|---|---|---|---|---|---|---|---|---|\n",
       "| Ford        | 36696.57    | 2           |  6          | 59.26462    | -3.28547256 | 7.938580    | 6.069673    |  TRUE       | 55.97915    |\n",
       "| Toyota      | 20618.62    | 2           | 14          | 38.21588    | -2.79019074 | 5.997753    | 6.170255    |  TRUE       | 35.42568    |\n",
       "| Ford        | 21003.26    | 2           |  8          | 39.18807    | -0.26558119 | 7.857335    | 6.777170    | FALSE       | 38.92249    |\n",
       "| GM          |       NA    | 0           |  5          | 36.38138    | -1.35033786 | 5.691600    | 5.848215    |  TRUE       | 35.03104    |\n",
       "| Ford        | 27488.80    | 3           |  6          | 49.22647    | -0.06738388 | 6.050838    | 6.389353    | FALSE       | 49.15909    |\n",
       "| Ford        |       NA    | 0           | 10          | 60.68898    | -0.92135848 | 4.435193    | 5.711845    | FALSE       | 59.76762    |\n",
       "\n"
      ],
      "text/plain": [
       "  brand  mileage  num_accidents num_passengers speed_car speed_air   height  \n",
       "1 Ford   36696.57 2              6             59.26462  -3.28547256 7.938580\n",
       "2 Toyota 20618.62 2             14             38.21588  -2.79019074 5.997753\n",
       "3 Ford   21003.26 2              8             39.18807  -0.26558119 7.857335\n",
       "4 GM           NA 0              5             36.38138  -1.35033786 5.691600\n",
       "5 Ford   27488.80 3              6             49.22647  -0.06738388 6.050838\n",
       "6 Ford         NA 0             10             60.68898  -0.92135848 4.435193\n",
       "  width    ABS   speed_rel\n",
       "1 6.069673  TRUE 55.97915 \n",
       "2 6.170255  TRUE 35.42568 \n",
       "3 6.777170 FALSE 38.92249 \n",
       "4 5.848215  TRUE 35.03104 \n",
       "5 6.389353 FALSE 49.15909 \n",
       "6 5.711845 FALSE 59.76762 "
      ]
     },
     "metadata": {},
     "output_type": "display_data"
    }
   ],
   "source": [
    "data$speed_rel = data$speed_car + data$speed_air\n",
    "head(data)"
   ]
  },
  {
   "cell_type": "code",
   "execution_count": 11,
   "metadata": {},
   "outputs": [
    {
     "data": {
      "text/html": [
       "50.30511990352"
      ],
      "text/latex": [
       "50.30511990352"
      ],
      "text/markdown": [
       "50.30511990352"
      ],
      "text/plain": [
       "[1] 50.30512"
      ]
     },
     "metadata": {},
     "output_type": "display_data"
    }
   ],
   "source": [
    "mean(data$speed_rel)"
   ]
  },
  {
   "cell_type": "markdown",
   "metadata": {},
   "source": [
    "As we can see the new variable relative speed of the car (speed_rel) has been added into the dataframe. The average relative speed of the car is calculated above."
   ]
  },
  {
   "cell_type": "markdown",
   "metadata": {
    "extensions": {
     "jupyter_dashboards": {
      "version": 1,
      "views": {
       "grid_default": {},
       "report_default": {
        "hidden": false
       }
      }
     }
    }
   },
   "source": [
    "### 8. How many cars have mileage less than 40000? How many cars have height less than 5?  Please delete those observations (i.e., cars whose mileages are less than 40000 and cars whose heights are less than 5) and delete the observations that contain NAs from the original data set to form a new data set.\n",
    "### *Answer:*\n",
    "I use the following code to find the number of cars that have mileage less than 40000."
   ]
  },
  {
   "cell_type": "code",
   "execution_count": 12,
   "metadata": {},
   "outputs": [
    {
     "data": {
      "text/html": [
       "210"
      ],
      "text/latex": [
       "210"
      ],
      "text/markdown": [
       "210"
      ],
      "text/plain": [
       "[1] 210"
      ]
     },
     "metadata": {},
     "output_type": "display_data"
    }
   ],
   "source": [
    "sum(data$mileage<40000, na.rm=TRUE)"
   ]
  },
  {
   "cell_type": "markdown",
   "metadata": {},
   "source": [
    "I use the following code to find the number of cars that have height less than 5."
   ]
  },
  {
   "cell_type": "code",
   "execution_count": 13,
   "metadata": {},
   "outputs": [
    {
     "data": {
      "text/html": [
       "93"
      ],
      "text/latex": [
       "93"
      ],
      "text/markdown": [
       "93"
      ],
      "text/plain": [
       "[1] 93"
      ]
     },
     "metadata": {},
     "output_type": "display_data"
    }
   ],
   "source": [
    "sum(data$height<5)"
   ]
  },
  {
   "cell_type": "markdown",
   "metadata": {},
   "source": [
    "I use the following code to remove observations that have NAs or whose mileages are less than 40000 or heights are less than 5."
   ]
  },
  {
   "cell_type": "code",
   "execution_count": 14,
   "metadata": {},
   "outputs": [
    {
     "data": {
      "text/html": [
       "<table>\n",
       "<thead><tr><th></th><th scope=col>brand</th><th scope=col>mileage</th><th scope=col>num_accidents</th><th scope=col>num_passengers</th><th scope=col>speed_car</th><th scope=col>speed_air</th><th scope=col>height</th><th scope=col>width</th><th scope=col>ABS</th><th scope=col>speed_rel</th></tr></thead>\n",
       "<tbody>\n",
       "\t<tr><th scope=row>11</th><td>Toyota     </td><td>49008.35   </td><td>0          </td><td> 2         </td><td>45.18036   </td><td>-4.85664137</td><td>6.245903   </td><td>5.940920   </td><td> TRUE      </td><td>40.32372   </td></tr>\n",
       "\t<tr><th scope=row>12</th><td>Ford       </td><td>52222.57   </td><td>1          </td><td> 5         </td><td>72.62542   </td><td> 0.09318688</td><td>6.188253   </td><td>6.942762   </td><td>FALSE      </td><td>72.71861   </td></tr>\n",
       "\t<tr><th scope=row>15</th><td>Toyota     </td><td>50384.01   </td><td>3          </td><td>20         </td><td>57.03688   </td><td>-1.78872301</td><td>6.891695   </td><td>6.628630   </td><td>FALSE      </td><td>55.24816   </td></tr>\n",
       "\t<tr><th scope=row>16</th><td>Ford       </td><td>44077.83   </td><td>3          </td><td>10         </td><td>70.06473   </td><td>-2.21176771</td><td>6.643067   </td><td>5.792547   </td><td> TRUE      </td><td>67.85296   </td></tr>\n",
       "\t<tr><th scope=row>18</th><td>Toyota     </td><td>54543.53   </td><td>1          </td><td>10         </td><td>33.61887   </td><td>-1.97128075</td><td>6.022424   </td><td>6.007553   </td><td> TRUE      </td><td>31.64759   </td></tr>\n",
       "\t<tr><th scope=row>19</th><td>Ford       </td><td>44982.11   </td><td>1          </td><td> 5         </td><td>63.39089   </td><td>-5.84904163</td><td>6.141426   </td><td>6.279825   </td><td>FALSE      </td><td>57.54185   </td></tr>\n",
       "</tbody>\n",
       "</table>\n"
      ],
      "text/latex": [
       "\\begin{tabular}{r|llllllllll}\n",
       "  & brand & mileage & num\\_accidents & num\\_passengers & speed\\_car & speed\\_air & height & width & ABS & speed\\_rel\\\\\n",
       "\\hline\n",
       "\t11 & Toyota      & 49008.35    & 0           &  2          & 45.18036    & -4.85664137 & 6.245903    & 5.940920    &  TRUE       & 40.32372   \\\\\n",
       "\t12 & Ford        & 52222.57    & 1           &  5          & 72.62542    &  0.09318688 & 6.188253    & 6.942762    & FALSE       & 72.71861   \\\\\n",
       "\t15 & Toyota      & 50384.01    & 3           & 20          & 57.03688    & -1.78872301 & 6.891695    & 6.628630    & FALSE       & 55.24816   \\\\\n",
       "\t16 & Ford        & 44077.83    & 3           & 10          & 70.06473    & -2.21176771 & 6.643067    & 5.792547    &  TRUE       & 67.85296   \\\\\n",
       "\t18 & Toyota      & 54543.53    & 1           & 10          & 33.61887    & -1.97128075 & 6.022424    & 6.007553    &  TRUE       & 31.64759   \\\\\n",
       "\t19 & Ford        & 44982.11    & 1           &  5          & 63.39089    & -5.84904163 & 6.141426    & 6.279825    & FALSE       & 57.54185   \\\\\n",
       "\\end{tabular}\n"
      ],
      "text/markdown": [
       "\n",
       "| <!--/--> | brand | mileage | num_accidents | num_passengers | speed_car | speed_air | height | width | ABS | speed_rel |\n",
       "|---|---|---|---|---|---|---|---|---|---|---|\n",
       "| 11 | Toyota      | 49008.35    | 0           |  2          | 45.18036    | -4.85664137 | 6.245903    | 5.940920    |  TRUE       | 40.32372    |\n",
       "| 12 | Ford        | 52222.57    | 1           |  5          | 72.62542    |  0.09318688 | 6.188253    | 6.942762    | FALSE       | 72.71861    |\n",
       "| 15 | Toyota      | 50384.01    | 3           | 20          | 57.03688    | -1.78872301 | 6.891695    | 6.628630    | FALSE       | 55.24816    |\n",
       "| 16 | Ford        | 44077.83    | 3           | 10          | 70.06473    | -2.21176771 | 6.643067    | 5.792547    |  TRUE       | 67.85296    |\n",
       "| 18 | Toyota      | 54543.53    | 1           | 10          | 33.61887    | -1.97128075 | 6.022424    | 6.007553    |  TRUE       | 31.64759    |\n",
       "| 19 | Ford        | 44982.11    | 1           |  5          | 63.39089    | -5.84904163 | 6.141426    | 6.279825    | FALSE       | 57.54185    |\n",
       "\n"
      ],
      "text/plain": [
       "   brand  mileage  num_accidents num_passengers speed_car speed_air   height  \n",
       "11 Toyota 49008.35 0              2             45.18036  -4.85664137 6.245903\n",
       "12 Ford   52222.57 1              5             72.62542   0.09318688 6.188253\n",
       "15 Toyota 50384.01 3             20             57.03688  -1.78872301 6.891695\n",
       "16 Ford   44077.83 3             10             70.06473  -2.21176771 6.643067\n",
       "18 Toyota 54543.53 1             10             33.61887  -1.97128075 6.022424\n",
       "19 Ford   44982.11 1              5             63.39089  -5.84904163 6.141426\n",
       "   width    ABS   speed_rel\n",
       "11 5.940920  TRUE 40.32372 \n",
       "12 6.942762 FALSE 72.71861 \n",
       "15 6.628630 FALSE 55.24816 \n",
       "16 5.792547  TRUE 67.85296 \n",
       "18 6.007553  TRUE 31.64759 \n",
       "19 6.279825 FALSE 57.54185 "
      ]
     },
     "metadata": {},
     "output_type": "display_data"
    },
    {
     "name": "stdout",
     "output_type": "stream",
     "text": [
      "[1] \"The number of rows the new dataset has is 158\"\n"
     ]
    }
   ],
   "source": [
    "new_df <- na.omit(data[!(data$mileage<40000 | data$height<5),])\n",
    "head(new_df)\n",
    "print(paste0('The number of rows the new dataset has is ', nrow(new_df)))"
   ]
  },
  {
   "cell_type": "markdown",
   "metadata": {},
   "source": [
    "As we can see there are 210 cars have mileages less than 40000, 93 cars have heights less than 5. After removing certain observations by request, the new dataset has 158 observations."
   ]
  },
  {
   "cell_type": "markdown",
   "metadata": {
    "extensions": {
     "jupyter_dashboards": {
      "version": 1,
      "views": {
       "grid_default": {},
       "report_default": {
        "hidden": false
       }
      }
     }
    }
   },
   "source": [
    "### 9. Divide the new data set (as obtained in Step 8) into three subsets: Ford, GM and Toyota.  That is, create three new data sets containing only Ford, GM, and Toyota cars, respectively.\n",
    "### *Answer:*\n",
    "I use the following code to divide the new dataset into three subsets based on the brand."
   ]
  },
  {
   "cell_type": "code",
   "execution_count": 15,
   "metadata": {
    "collapsed": true,
    "extensions": {
     "jupyter_dashboards": {
      "version": 1,
      "views": {
       "grid_default": {},
       "report_default": {
        "hidden": true
       }
      }
     }
    }
   },
   "outputs": [],
   "source": [
    "ford <- new_df[new_df$brand=='Ford',]\n",
    "gm <- new_df[new_df$brand=='GM',]\n",
    "toyota <- new_df[new_df$brand=='Toyota',]"
   ]
  },
  {
   "cell_type": "code",
   "execution_count": 16,
   "metadata": {},
   "outputs": [
    {
     "data": {
      "text/html": [
       "<table>\n",
       "<thead><tr><th></th><th scope=col>brand</th><th scope=col>mileage</th><th scope=col>num_accidents</th><th scope=col>num_passengers</th><th scope=col>speed_car</th><th scope=col>speed_air</th><th scope=col>height</th><th scope=col>width</th><th scope=col>ABS</th><th scope=col>speed_rel</th></tr></thead>\n",
       "<tbody>\n",
       "\t<tr><th scope=row>12</th><td>Ford       </td><td>52222.57   </td><td>1          </td><td> 5         </td><td>72.62542   </td><td> 0.09318688</td><td>6.188253   </td><td>6.942762   </td><td>FALSE      </td><td>72.71861   </td></tr>\n",
       "\t<tr><th scope=row>16</th><td>Ford       </td><td>44077.83   </td><td>3          </td><td>10         </td><td>70.06473   </td><td>-2.21176771</td><td>6.643067   </td><td>5.792547   </td><td> TRUE      </td><td>67.85296   </td></tr>\n",
       "\t<tr><th scope=row>19</th><td>Ford       </td><td>44982.11   </td><td>1          </td><td> 5         </td><td>63.39089   </td><td>-5.84904163</td><td>6.141426   </td><td>6.279825   </td><td>FALSE      </td><td>57.54185   </td></tr>\n",
       "\t<tr><th scope=row>20</th><td>Ford       </td><td>47130.67   </td><td>1          </td><td> 8         </td><td>50.89936   </td><td>-0.90499485</td><td>6.976452   </td><td>6.284466   </td><td>FALSE      </td><td>49.99437   </td></tr>\n",
       "\t<tr><th scope=row>23</th><td>Ford       </td><td>51598.49   </td><td>0          </td><td>14         </td><td>75.66372   </td><td>-4.81676432</td><td>5.872884   </td><td>5.825867   </td><td>FALSE      </td><td>70.84696   </td></tr>\n",
       "\t<tr><th scope=row>24</th><td>Ford       </td><td>41221.01   </td><td>2          </td><td> 8         </td><td>57.49086   </td><td> 0.09653725</td><td>6.713137   </td><td>5.744557   </td><td> TRUE      </td><td>57.58740   </td></tr>\n",
       "</tbody>\n",
       "</table>\n"
      ],
      "text/latex": [
       "\\begin{tabular}{r|llllllllll}\n",
       "  & brand & mileage & num\\_accidents & num\\_passengers & speed\\_car & speed\\_air & height & width & ABS & speed\\_rel\\\\\n",
       "\\hline\n",
       "\t12 & Ford        & 52222.57    & 1           &  5          & 72.62542    &  0.09318688 & 6.188253    & 6.942762    & FALSE       & 72.71861   \\\\\n",
       "\t16 & Ford        & 44077.83    & 3           & 10          & 70.06473    & -2.21176771 & 6.643067    & 5.792547    &  TRUE       & 67.85296   \\\\\n",
       "\t19 & Ford        & 44982.11    & 1           &  5          & 63.39089    & -5.84904163 & 6.141426    & 6.279825    & FALSE       & 57.54185   \\\\\n",
       "\t20 & Ford        & 47130.67    & 1           &  8          & 50.89936    & -0.90499485 & 6.976452    & 6.284466    & FALSE       & 49.99437   \\\\\n",
       "\t23 & Ford        & 51598.49    & 0           & 14          & 75.66372    & -4.81676432 & 5.872884    & 5.825867    & FALSE       & 70.84696   \\\\\n",
       "\t24 & Ford        & 41221.01    & 2           &  8          & 57.49086    &  0.09653725 & 6.713137    & 5.744557    &  TRUE       & 57.58740   \\\\\n",
       "\\end{tabular}\n"
      ],
      "text/markdown": [
       "\n",
       "| <!--/--> | brand | mileage | num_accidents | num_passengers | speed_car | speed_air | height | width | ABS | speed_rel |\n",
       "|---|---|---|---|---|---|---|---|---|---|---|\n",
       "| 12 | Ford        | 52222.57    | 1           |  5          | 72.62542    |  0.09318688 | 6.188253    | 6.942762    | FALSE       | 72.71861    |\n",
       "| 16 | Ford        | 44077.83    | 3           | 10          | 70.06473    | -2.21176771 | 6.643067    | 5.792547    |  TRUE       | 67.85296    |\n",
       "| 19 | Ford        | 44982.11    | 1           |  5          | 63.39089    | -5.84904163 | 6.141426    | 6.279825    | FALSE       | 57.54185    |\n",
       "| 20 | Ford        | 47130.67    | 1           |  8          | 50.89936    | -0.90499485 | 6.976452    | 6.284466    | FALSE       | 49.99437    |\n",
       "| 23 | Ford        | 51598.49    | 0           | 14          | 75.66372    | -4.81676432 | 5.872884    | 5.825867    | FALSE       | 70.84696    |\n",
       "| 24 | Ford        | 41221.01    | 2           |  8          | 57.49086    |  0.09653725 | 6.713137    | 5.744557    |  TRUE       | 57.58740    |\n",
       "\n"
      ],
      "text/plain": [
       "   brand mileage  num_accidents num_passengers speed_car speed_air   height  \n",
       "12 Ford  52222.57 1              5             72.62542   0.09318688 6.188253\n",
       "16 Ford  44077.83 3             10             70.06473  -2.21176771 6.643067\n",
       "19 Ford  44982.11 1              5             63.39089  -5.84904163 6.141426\n",
       "20 Ford  47130.67 1              8             50.89936  -0.90499485 6.976452\n",
       "23 Ford  51598.49 0             14             75.66372  -4.81676432 5.872884\n",
       "24 Ford  41221.01 2              8             57.49086   0.09653725 6.713137\n",
       "   width    ABS   speed_rel\n",
       "12 6.942762 FALSE 72.71861 \n",
       "16 5.792547  TRUE 67.85296 \n",
       "19 6.279825 FALSE 57.54185 \n",
       "20 6.284466 FALSE 49.99437 \n",
       "23 5.825867 FALSE 70.84696 \n",
       "24 5.744557  TRUE 57.58740 "
      ]
     },
     "metadata": {},
     "output_type": "display_data"
    }
   ],
   "source": [
    "head(ford)"
   ]
  },
  {
   "cell_type": "code",
   "execution_count": 17,
   "metadata": {},
   "outputs": [
    {
     "data": {
      "text/html": [
       "<table>\n",
       "<thead><tr><th></th><th scope=col>brand</th><th scope=col>mileage</th><th scope=col>num_accidents</th><th scope=col>num_passengers</th><th scope=col>speed_car</th><th scope=col>speed_air</th><th scope=col>height</th><th scope=col>width</th><th scope=col>ABS</th><th scope=col>speed_rel</th></tr></thead>\n",
       "<tbody>\n",
       "\t<tr><th scope=row>47</th><td>GM        </td><td>51012.22  </td><td>3         </td><td> 4        </td><td>31.71405  </td><td>-0.5771654</td><td>5.326909  </td><td>5.917744  </td><td> TRUE     </td><td>31.13688  </td></tr>\n",
       "\t<tr><th scope=row>71</th><td>GM        </td><td>41129.46  </td><td>1         </td><td> 7        </td><td>55.32488  </td><td>-2.8688412</td><td>7.675549  </td><td>6.053806  </td><td>FALSE     </td><td>52.45604  </td></tr>\n",
       "\t<tr><th scope=row>90</th><td>GM        </td><td>42332.65  </td><td>1         </td><td> 6        </td><td>71.09775  </td><td> 1.7026111</td><td>7.265762  </td><td>5.651175  </td><td>FALSE     </td><td>72.80036  </td></tr>\n",
       "\t<tr><th scope=row>128</th><td>GM        </td><td>50068.08  </td><td>3         </td><td> 5        </td><td>54.79653  </td><td> 1.6821691</td><td>8.516841  </td><td>6.318204  </td><td>FALSE     </td><td>56.47870  </td></tr>\n",
       "\t<tr><th scope=row>138</th><td>GM        </td><td>47962.75  </td><td>3         </td><td>20        </td><td>46.82012  </td><td> 4.6511799</td><td>5.464159  </td><td>6.105387  </td><td>FALSE     </td><td>51.47130  </td></tr>\n",
       "\t<tr><th scope=row>165</th><td>GM        </td><td>42393.67  </td><td>5         </td><td> 8        </td><td>59.49306  </td><td> 1.6379526</td><td>5.786553  </td><td>6.115461  </td><td>FALSE     </td><td>61.13101  </td></tr>\n",
       "</tbody>\n",
       "</table>\n"
      ],
      "text/latex": [
       "\\begin{tabular}{r|llllllllll}\n",
       "  & brand & mileage & num\\_accidents & num\\_passengers & speed\\_car & speed\\_air & height & width & ABS & speed\\_rel\\\\\n",
       "\\hline\n",
       "\t47 & GM         & 51012.22   & 3          &  4         & 31.71405   & -0.5771654 & 5.326909   & 5.917744   &  TRUE      & 31.13688  \\\\\n",
       "\t71 & GM         & 41129.46   & 1          &  7         & 55.32488   & -2.8688412 & 7.675549   & 6.053806   & FALSE      & 52.45604  \\\\\n",
       "\t90 & GM         & 42332.65   & 1          &  6         & 71.09775   &  1.7026111 & 7.265762   & 5.651175   & FALSE      & 72.80036  \\\\\n",
       "\t128 & GM         & 50068.08   & 3          &  5         & 54.79653   &  1.6821691 & 8.516841   & 6.318204   & FALSE      & 56.47870  \\\\\n",
       "\t138 & GM         & 47962.75   & 3          & 20         & 46.82012   &  4.6511799 & 5.464159   & 6.105387   & FALSE      & 51.47130  \\\\\n",
       "\t165 & GM         & 42393.67   & 5          &  8         & 59.49306   &  1.6379526 & 5.786553   & 6.115461   & FALSE      & 61.13101  \\\\\n",
       "\\end{tabular}\n"
      ],
      "text/markdown": [
       "\n",
       "| <!--/--> | brand | mileage | num_accidents | num_passengers | speed_car | speed_air | height | width | ABS | speed_rel |\n",
       "|---|---|---|---|---|---|---|---|---|---|---|\n",
       "| 47 | GM         | 51012.22   | 3          |  4         | 31.71405   | -0.5771654 | 5.326909   | 5.917744   |  TRUE      | 31.13688   |\n",
       "| 71 | GM         | 41129.46   | 1          |  7         | 55.32488   | -2.8688412 | 7.675549   | 6.053806   | FALSE      | 52.45604   |\n",
       "| 90 | GM         | 42332.65   | 1          |  6         | 71.09775   |  1.7026111 | 7.265762   | 5.651175   | FALSE      | 72.80036   |\n",
       "| 128 | GM         | 50068.08   | 3          |  5         | 54.79653   |  1.6821691 | 8.516841   | 6.318204   | FALSE      | 56.47870   |\n",
       "| 138 | GM         | 47962.75   | 3          | 20         | 46.82012   |  4.6511799 | 5.464159   | 6.105387   | FALSE      | 51.47130   |\n",
       "| 165 | GM         | 42393.67   | 5          |  8         | 59.49306   |  1.6379526 | 5.786553   | 6.115461   | FALSE      | 61.13101   |\n",
       "\n"
      ],
      "text/plain": [
       "    brand mileage  num_accidents num_passengers speed_car speed_air  height  \n",
       "47  GM    51012.22 3              4             31.71405  -0.5771654 5.326909\n",
       "71  GM    41129.46 1              7             55.32488  -2.8688412 7.675549\n",
       "90  GM    42332.65 1              6             71.09775   1.7026111 7.265762\n",
       "128 GM    50068.08 3              5             54.79653   1.6821691 8.516841\n",
       "138 GM    47962.75 3             20             46.82012   4.6511799 5.464159\n",
       "165 GM    42393.67 5              8             59.49306   1.6379526 5.786553\n",
       "    width    ABS   speed_rel\n",
       "47  5.917744  TRUE 31.13688 \n",
       "71  6.053806 FALSE 52.45604 \n",
       "90  5.651175 FALSE 72.80036 \n",
       "128 6.318204 FALSE 56.47870 \n",
       "138 6.105387 FALSE 51.47130 \n",
       "165 6.115461 FALSE 61.13101 "
      ]
     },
     "metadata": {},
     "output_type": "display_data"
    }
   ],
   "source": [
    "head(gm)"
   ]
  },
  {
   "cell_type": "code",
   "execution_count": 18,
   "metadata": {},
   "outputs": [
    {
     "data": {
      "text/html": [
       "<table>\n",
       "<thead><tr><th></th><th scope=col>brand</th><th scope=col>mileage</th><th scope=col>num_accidents</th><th scope=col>num_passengers</th><th scope=col>speed_car</th><th scope=col>speed_air</th><th scope=col>height</th><th scope=col>width</th><th scope=col>ABS</th><th scope=col>speed_rel</th></tr></thead>\n",
       "<tbody>\n",
       "\t<tr><th scope=row>11</th><td>Toyota   </td><td>49008.35 </td><td>0        </td><td> 2       </td><td>45.18036 </td><td>-4.856641</td><td>6.245903 </td><td>5.940920 </td><td> TRUE    </td><td>40.32372 </td></tr>\n",
       "\t<tr><th scope=row>15</th><td>Toyota   </td><td>50384.01 </td><td>3        </td><td>20       </td><td>57.03688 </td><td>-1.788723</td><td>6.891695 </td><td>6.628630 </td><td>FALSE    </td><td>55.24816 </td></tr>\n",
       "\t<tr><th scope=row>18</th><td>Toyota   </td><td>54543.53 </td><td>1        </td><td>10       </td><td>33.61887 </td><td>-1.971281</td><td>6.022424 </td><td>6.007553 </td><td> TRUE    </td><td>31.64759 </td></tr>\n",
       "\t<tr><th scope=row>28</th><td>Toyota   </td><td>46738.11 </td><td>1        </td><td> 7       </td><td>67.75778 </td><td> 6.191012</td><td>6.262819 </td><td>6.345172 </td><td>FALSE    </td><td>73.94879 </td></tr>\n",
       "\t<tr><th scope=row>46</th><td>Toyota   </td><td>41185.63 </td><td>2        </td><td> 8       </td><td>38.87330 </td><td>-5.742323</td><td>8.275744 </td><td>6.268487 </td><td>FALSE    </td><td>33.13098 </td></tr>\n",
       "\t<tr><th scope=row>58</th><td>Toyota   </td><td>51687.15 </td><td>2        </td><td> 5       </td><td>46.66929 </td><td>-3.482004</td><td>7.112445 </td><td>5.601861 </td><td> TRUE    </td><td>43.18729 </td></tr>\n",
       "</tbody>\n",
       "</table>\n"
      ],
      "text/latex": [
       "\\begin{tabular}{r|llllllllll}\n",
       "  & brand & mileage & num\\_accidents & num\\_passengers & speed\\_car & speed\\_air & height & width & ABS & speed\\_rel\\\\\n",
       "\\hline\n",
       "\t11 & Toyota    & 49008.35  & 0         &  2        & 45.18036  & -4.856641 & 6.245903  & 5.940920  &  TRUE     & 40.32372 \\\\\n",
       "\t15 & Toyota    & 50384.01  & 3         & 20        & 57.03688  & -1.788723 & 6.891695  & 6.628630  & FALSE     & 55.24816 \\\\\n",
       "\t18 & Toyota    & 54543.53  & 1         & 10        & 33.61887  & -1.971281 & 6.022424  & 6.007553  &  TRUE     & 31.64759 \\\\\n",
       "\t28 & Toyota    & 46738.11  & 1         &  7        & 67.75778  &  6.191012 & 6.262819  & 6.345172  & FALSE     & 73.94879 \\\\\n",
       "\t46 & Toyota    & 41185.63  & 2         &  8        & 38.87330  & -5.742323 & 8.275744  & 6.268487  & FALSE     & 33.13098 \\\\\n",
       "\t58 & Toyota    & 51687.15  & 2         &  5        & 46.66929  & -3.482004 & 7.112445  & 5.601861  &  TRUE     & 43.18729 \\\\\n",
       "\\end{tabular}\n"
      ],
      "text/markdown": [
       "\n",
       "| <!--/--> | brand | mileage | num_accidents | num_passengers | speed_car | speed_air | height | width | ABS | speed_rel |\n",
       "|---|---|---|---|---|---|---|---|---|---|---|\n",
       "| 11 | Toyota    | 49008.35  | 0         |  2        | 45.18036  | -4.856641 | 6.245903  | 5.940920  |  TRUE     | 40.32372  |\n",
       "| 15 | Toyota    | 50384.01  | 3         | 20        | 57.03688  | -1.788723 | 6.891695  | 6.628630  | FALSE     | 55.24816  |\n",
       "| 18 | Toyota    | 54543.53  | 1         | 10        | 33.61887  | -1.971281 | 6.022424  | 6.007553  |  TRUE     | 31.64759  |\n",
       "| 28 | Toyota    | 46738.11  | 1         |  7        | 67.75778  |  6.191012 | 6.262819  | 6.345172  | FALSE     | 73.94879  |\n",
       "| 46 | Toyota    | 41185.63  | 2         |  8        | 38.87330  | -5.742323 | 8.275744  | 6.268487  | FALSE     | 33.13098  |\n",
       "| 58 | Toyota    | 51687.15  | 2         |  5        | 46.66929  | -3.482004 | 7.112445  | 5.601861  |  TRUE     | 43.18729  |\n",
       "\n"
      ],
      "text/plain": [
       "   brand  mileage  num_accidents num_passengers speed_car speed_air height  \n",
       "11 Toyota 49008.35 0              2             45.18036  -4.856641 6.245903\n",
       "15 Toyota 50384.01 3             20             57.03688  -1.788723 6.891695\n",
       "18 Toyota 54543.53 1             10             33.61887  -1.971281 6.022424\n",
       "28 Toyota 46738.11 1              7             67.75778   6.191012 6.262819\n",
       "46 Toyota 41185.63 2              8             38.87330  -5.742323 8.275744\n",
       "58 Toyota 51687.15 2              5             46.66929  -3.482004 7.112445\n",
       "   width    ABS   speed_rel\n",
       "11 5.940920  TRUE 40.32372 \n",
       "15 6.628630 FALSE 55.24816 \n",
       "18 6.007553  TRUE 31.64759 \n",
       "28 6.345172 FALSE 73.94879 \n",
       "46 6.268487 FALSE 33.13098 \n",
       "58 5.601861  TRUE 43.18729 "
      ]
     },
     "metadata": {},
     "output_type": "display_data"
    }
   ],
   "source": [
    "head(toyota)"
   ]
  },
  {
   "cell_type": "markdown",
   "metadata": {},
   "source": [
    "As we can see from the above, the new dataset has been divided into three subsets based on variable brand. All the mileages are larger than 40000 and all the heights are larger than 5 which also show that the question 8 has been implemented successfully."
   ]
  }
 ],
 "metadata": {
  "extensions": {
   "jupyter_dashboards": {
    "activeView": "report_default",
    "version": 1,
    "views": {
     "grid_default": {
      "name": "grid",
      "type": "grid"
     },
     "report_default": {
      "name": "report",
      "type": "report"
     }
    }
   }
  },
  "kernelspec": {
   "display_name": "R",
   "language": "R",
   "name": "ir"
  },
  "language_info": {
   "codemirror_mode": "r",
   "file_extension": ".r",
   "mimetype": "text/x-r-source",
   "name": "R",
   "pygments_lexer": "r",
   "version": "3.5.0"
  }
 },
 "nbformat": 4,
 "nbformat_minor": 2
}
