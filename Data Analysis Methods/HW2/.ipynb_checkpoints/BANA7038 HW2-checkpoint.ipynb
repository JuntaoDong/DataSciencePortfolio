{
 "cells": [
  {
   "cell_type": "markdown",
   "metadata": {},
   "source": [
    "# BANA7038 Data Analysis Methods Homework2\n",
    "### Last Name: Dong\n",
    "### First Name: Juntao\n",
    "### M-Number: M10453134"
   ]
  },
  {
   "cell_type": "markdown",
   "metadata": {},
   "source": [
    "### 1. Read tombstone.csv into R.  Use response variable = Marble Tombstone Mean Surface Recession Rate, and covariate = Mean SO2 concentrations over a 100 year period.  Description: Marble Tombstone Mean Surface Recession Rates and Mean SO2 concentrations over a 100 year period.\n",
    "### *Answer:*\n",
    "I use following code to load tombstone.csv dataset."
   ]
  },
  {
   "cell_type": "code",
   "execution_count": 1,
   "metadata": {},
   "outputs": [
    {
     "data": {
      "text/html": [
       "<table>\n",
       "<thead><tr><th scope=col>City</th><th scope=col>Modelled.100.Year.Mean.SO2.Concentration..ug.m..3.</th><th scope=col>Marble.Tombstone.Mean.Surface.Recession.Rate..mm.100years.</th></tr></thead>\n",
       "<tbody>\n",
       "\t<tr><td>Washington,DC (Rural)</td><td>12                   </td><td>0.27                 </td></tr>\n",
       "\t<tr><td>Cincinnati,OH (Rural)</td><td>20                   </td><td>0.14                 </td></tr>\n",
       "\t<tr><td>Philadelphia,PA (Rura</td><td>20                   </td><td>0.33                 </td></tr>\n",
       "\t<tr><td>Richmond,VA          </td><td>46                   </td><td>0.81                 </td></tr>\n",
       "\t<tr><td>Fall River,MA        </td><td>48                   </td><td>0.84                 </td></tr>\n",
       "\t<tr><td>Hartford,CT          </td><td>92                   </td><td>1.08                 </td></tr>\n",
       "</tbody>\n",
       "</table>\n"
      ],
      "text/latex": [
       "\\begin{tabular}{r|lll}\n",
       " City & Modelled.100.Year.Mean.SO2.Concentration..ug.m..3. & Marble.Tombstone.Mean.Surface.Recession.Rate..mm.100years.\\\\\n",
       "\\hline\n",
       "\t Washington,DC (Rural) & 12                    & 0.27                 \\\\\n",
       "\t Cincinnati,OH (Rural) & 20                    & 0.14                 \\\\\n",
       "\t Philadelphia,PA (Rura & 20                    & 0.33                 \\\\\n",
       "\t Richmond,VA           & 46                    & 0.81                 \\\\\n",
       "\t Fall River,MA         & 48                    & 0.84                 \\\\\n",
       "\t Hartford,CT           & 92                    & 1.08                 \\\\\n",
       "\\end{tabular}\n"
      ],
      "text/markdown": [
       "\n",
       "| City | Modelled.100.Year.Mean.SO2.Concentration..ug.m..3. | Marble.Tombstone.Mean.Surface.Recession.Rate..mm.100years. |\n",
       "|---|---|---|\n",
       "| Washington,DC (Rural) | 12                    | 0.27                  |\n",
       "| Cincinnati,OH (Rural) | 20                    | 0.14                  |\n",
       "| Philadelphia,PA (Rura | 20                    | 0.33                  |\n",
       "| Richmond,VA           | 46                    | 0.81                  |\n",
       "| Fall River,MA         | 48                    | 0.84                  |\n",
       "| Hartford,CT           | 92                    | 1.08                  |\n",
       "\n"
      ],
      "text/plain": [
       "  City                  Modelled.100.Year.Mean.SO2.Concentration..ug.m..3.\n",
       "1 Washington,DC (Rural) 12                                                \n",
       "2 Cincinnati,OH (Rural) 20                                                \n",
       "3 Philadelphia,PA (Rura 20                                                \n",
       "4 Richmond,VA           46                                                \n",
       "5 Fall River,MA         48                                                \n",
       "6 Hartford,CT           92                                                \n",
       "  Marble.Tombstone.Mean.Surface.Recession.Rate..mm.100years.\n",
       "1 0.27                                                      \n",
       "2 0.14                                                      \n",
       "3 0.33                                                      \n",
       "4 0.81                                                      \n",
       "5 0.84                                                      \n",
       "6 1.08                                                      "
      ]
     },
     "metadata": {},
     "output_type": "display_data"
    }
   ],
   "source": [
    "df = read.csv('tombstone.csv')\n",
    "head(df)"
   ]
  },
  {
   "cell_type": "markdown",
   "metadata": {},
   "source": [
    "After printing the first observations of the dataset, we can be sure that the data has been imported successfully."
   ]
  },
  {
   "cell_type": "markdown",
   "metadata": {},
   "source": [
    "### 2. Plot data and briefly describe what you observe, i.e., positive trend or negative trend and others.\n",
    "### *Answer:*\n",
    "I use following code to plot the data."
   ]
  },
  {
   "cell_type": "code",
   "execution_count": 2,
   "metadata": {},
   "outputs": [
    {
     "data": {
      "image/png": "[encoded data removed]",
      "text/plain": [
       "plot without title"
      ]
     },
     "metadata": {},
     "output_type": "display_data"
    }
   ],
   "source": [
    "plot(df[,2], df[,3])"
   ]
  },
  {
   "cell_type": "markdown",
   "metadata": {},
   "source": [
    "As one can see the points show there is a positive trend between the covariate and the response variable."
   ]
  },
  {
   "cell_type": "markdown",
   "metadata": {},
   "source": [
    "### 3. Perform linear regression using lm() function\n",
    "### 3.1. Obtain coefficient estimates (β_0 ) ̂, (β_1 ) ̂.  What do these estimate imply in terms of the relationship between the response and the covariate?\n",
    "### *Answer:*\n",
    "I use the following code to perform linear regression on the dataset to obtain $\\hat{β_{0}}$ and $\\hat{β_{1}}$"
   ]
  },
  {
   "cell_type": "code",
   "execution_count": 3,
   "metadata": {},
   "outputs": [
    {
     "data": {
      "text/html": [
       "<table>\n",
       "<thead><tr><th></th><th scope=col>Estimate</th><th scope=col>Std. Error</th><th scope=col>t value</th><th scope=col>Pr(&gt;|t|)</th></tr></thead>\n",
       "<tbody>\n",
       "\t<tr><th scope=row>(Intercept)</th><td>0.322995899 </td><td>0.1521958377</td><td>2.122239    </td><td>4.718525e-02</td></tr>\n",
       "\t<tr><th scope=row>df[, 2]</th><td>0.008593333 </td><td>0.0009499341</td><td>9.046242    </td><td>2.578534e-08</td></tr>\n",
       "</tbody>\n",
       "</table>\n"
      ],
      "text/latex": [
       "\\begin{tabular}{r|llll}\n",
       "  & Estimate & Std. Error & t value & Pr(>\\textbar{}t\\textbar{})\\\\\n",
       "\\hline\n",
       "\t(Intercept) & 0.322995899  & 0.1521958377 & 2.122239     & 4.718525e-02\\\\\n",
       "\tdf{[}, 2{]} & 0.008593333  & 0.0009499341 & 9.046242     & 2.578534e-08\\\\\n",
       "\\end{tabular}\n"
      ],
      "text/markdown": [
       "\n",
       "| <!--/--> | Estimate | Std. Error | t value | Pr(>|t|) |\n",
       "|---|---|---|---|---|\n",
       "| (Intercept) | 0.322995899  | 0.1521958377 | 2.122239     | 4.718525e-02 |\n",
       "| df[, 2] | 0.008593333  | 0.0009499341 | 9.046242     | 2.578534e-08 |\n",
       "\n"
      ],
      "text/plain": [
       "            Estimate    Std. Error   t value  Pr(>|t|)    \n",
       "(Intercept) 0.322995899 0.1521958377 2.122239 4.718525e-02\n",
       "df[, 2]     0.008593333 0.0009499341 9.046242 2.578534e-08"
      ]
     },
     "metadata": {},
     "output_type": "display_data"
    }
   ],
   "source": [
    "model1 = lm(df[,3]~df[,2])\n",
    "summary(model1)$coef"
   ]
  },
  {
   "cell_type": "markdown",
   "metadata": {},
   "source": [
    "As we can see, $\\hat{β_{0}}$ is 0.322995899 and $\\hat{β_{1}}$ is 0.008593333. Since $\\hat{β_{1}}$ is positive, it implies that there remains positive relationship between the response and the covariate."
   ]
  },
  {
   "cell_type": "markdown",
   "metadata": {},
   "source": [
    "### 3.2. Obtain fitted values and the sum of fitted values.  What do these fitted values represent?  \n",
    "### *Answer:*\n",
    "I use the following code to get the fitted values and sum them up."
   ]
  },
  {
   "cell_type": "code",
   "execution_count": 4,
   "metadata": {},
   "outputs": [
    {
     "data": {
      "text/html": [
       "<dl class=dl-horizontal>\n",
       "\t<dt>1</dt>\n",
       "\t\t<dd>0.426115896577171</dd>\n",
       "\t<dt>2</dt>\n",
       "\t\t<dd>0.494862561730147</dd>\n",
       "\t<dt>3</dt>\n",
       "\t\t<dd>0.494862561730147</dd>\n",
       "\t<dt>4</dt>\n",
       "\t\t<dd>0.718289223477323</dd>\n",
       "\t<dt>5</dt>\n",
       "\t\t<dd>0.735475889765567</dd>\n",
       "\t<dt>6</dt>\n",
       "\t\t<dd>1.11358254810694</dd>\n",
       "\t<dt>7</dt>\n",
       "\t\t<dd>1.10498921496282</dd>\n",
       "\t<dt>8</dt>\n",
       "\t\t<dd>1.13076921439519</dd>\n",
       "\t<dt>9</dt>\n",
       "\t\t<dd>1.19951587954816</dd>\n",
       "\t<dt>10</dt>\n",
       "\t\t<dd>1.32841587671</dd>\n",
       "\t<dt>11</dt>\n",
       "\t\t<dd>1.37138254243061</dd>\n",
       "\t<dt>12</dt>\n",
       "\t\t<dd>1.54324920531305</dd>\n",
       "\t<dt>13</dt>\n",
       "\t\t<dd>1.54324920531305</dd>\n",
       "\t<dt>14</dt>\n",
       "\t\t<dd>1.85260919850145</dd>\n",
       "\t<dt>15</dt>\n",
       "\t\t<dd>1.86979586478969</dd>\n",
       "\t<dt>16</dt>\n",
       "\t\t<dd>2.01588252823977</dd>\n",
       "\t<dt>17</dt>\n",
       "\t\t<dd>2.24790252313107</dd>\n",
       "\t<dt>18</dt>\n",
       "\t\t<dd>2.33383585457229</dd>\n",
       "\t<dt>19</dt>\n",
       "\t\t<dd>2.3768025202929</dd>\n",
       "\t<dt>20</dt>\n",
       "\t\t<dd>2.41976918601351</dd>\n",
       "\t<dt>21</dt>\n",
       "\t\t<dd>3.09864250439916</dd>\n",
       "</dl>\n"
      ],
      "text/latex": [
       "\\begin{description*}\n",
       "\\item[1] 0.426115896577171\n",
       "\\item[2] 0.494862561730147\n",
       "\\item[3] 0.494862561730147\n",
       "\\item[4] 0.718289223477323\n",
       "\\item[5] 0.735475889765567\n",
       "\\item[6] 1.11358254810694\n",
       "\\item[7] 1.10498921496282\n",
       "\\item[8] 1.13076921439519\n",
       "\\item[9] 1.19951587954816\n",
       "\\item[10] 1.32841587671\n",
       "\\item[11] 1.37138254243061\n",
       "\\item[12] 1.54324920531305\n",
       "\\item[13] 1.54324920531305\n",
       "\\item[14] 1.85260919850145\n",
       "\\item[15] 1.86979586478969\n",
       "\\item[16] 2.01588252823977\n",
       "\\item[17] 2.24790252313107\n",
       "\\item[18] 2.33383585457229\n",
       "\\item[19] 2.3768025202929\n",
       "\\item[20] 2.41976918601351\n",
       "\\item[21] 3.09864250439916\n",
       "\\end{description*}\n"
      ],
      "text/markdown": [
       "1\n",
       ":   0.4261158965771712\n",
       ":   0.4948625617301473\n",
       ":   0.4948625617301474\n",
       ":   0.7182892234773235\n",
       ":   0.7354758897655676\n",
       ":   1.113582548106947\n",
       ":   1.104989214962828\n",
       ":   1.130769214395199\n",
       ":   1.1995158795481610\n",
       ":   1.3284158767111\n",
       ":   1.3713825424306112\n",
       ":   1.5432492053130513\n",
       ":   1.5432492053130514\n",
       ":   1.8526091985014515\n",
       ":   1.8697958647896916\n",
       ":   2.0158825282397717\n",
       ":   2.2479025231310718\n",
       ":   2.3338358545722919\n",
       ":   2.376802520292920\n",
       ":   2.4197691860135121\n",
       ":   3.09864250439916\n",
       "\n"
      ],
      "text/plain": [
       "        1         2         3         4         5         6         7         8 \n",
       "0.4261159 0.4948626 0.4948626 0.7182892 0.7354759 1.1135825 1.1049892 1.1307692 \n",
       "        9        10        11        12        13        14        15        16 \n",
       "1.1995159 1.3284159 1.3713825 1.5432492 1.5432492 1.8526092 1.8697959 2.0158825 \n",
       "       17        18        19        20        21 \n",
       "2.2479025 2.3338359 2.3768025 2.4197692 3.0986425 "
      ]
     },
     "metadata": {},
     "output_type": "display_data"
    }
   ],
   "source": [
    "model1$fitted.values"
   ]
  },
  {
   "cell_type": "code",
   "execution_count": 5,
   "metadata": {},
   "outputs": [
    {
     "data": {
      "text/html": [
       "31.42"
      ],
      "text/latex": [
       "31.42"
      ],
      "text/markdown": [
       "31.42"
      ],
      "text/plain": [
       "[1] 31.42"
      ]
     },
     "metadata": {},
     "output_type": "display_data"
    }
   ],
   "source": [
    "sum(model1$fitted.values)"
   ]
  },
  {
   "cell_type": "markdown",
   "metadata": {},
   "source": [
    "As we can see the results are shown above. These fitted values estimate the mean response of $y_{i}$ at $x_{i}$."
   ]
  },
  {
   "cell_type": "markdown",
   "metadata": {},
   "source": [
    "### 3.3. Obtain the sum of all values of response variable. \n",
    "### *Answer:*\n",
    "I use the following code to sum of all response variable."
   ]
  },
  {
   "cell_type": "code",
   "execution_count": 6,
   "metadata": {},
   "outputs": [
    {
     "data": {
      "text/html": [
       "31.42"
      ],
      "text/latex": [
       "31.42"
      ],
      "text/markdown": [
       "31.42"
      ],
      "text/plain": [
       "[1] 31.42"
      ]
     },
     "metadata": {},
     "output_type": "display_data"
    }
   ],
   "source": [
    "sum(df[,3])"
   ]
  },
  {
   "cell_type": "markdown",
   "metadata": {},
   "source": [
    "### 3.4. Verify the fact that the sum of fitted values is always the same as the sum of response variable.  In addition, verify the fact that the mean of the fitted values is always the same as the mean of response variable, y ̅.\n",
    "### *Answer:*\n",
    "I use the following code to verify the facts.\n"
   ]
  },
  {
   "cell_type": "code",
   "execution_count": 7,
   "metadata": {},
   "outputs": [
    {
     "name": "stdout",
     "output_type": "stream",
     "text": [
      "[1] \"The sum of fitted values is the same as the sum of response variable\"\n"
     ]
    }
   ],
   "source": [
    "if (round(sum(model1$fitted.values), 2)==round(sum(df[,3]), 2)) {\n",
    "    print('The sum of fitted values is the same as the sum of response variable')\n",
    "}"
   ]
  },
  {
   "cell_type": "code",
   "execution_count": 8,
   "metadata": {},
   "outputs": [
    {
     "name": "stdout",
     "output_type": "stream",
     "text": [
      "[1] \"The mean of fitted values is the same as the mean of response variable\"\n"
     ]
    }
   ],
   "source": [
    "if (round(mean(model1$fitted.values), 2)==round(mean(df[,3]), 2)) {\n",
    "    print('The mean of fitted values is the same as the mean of response variable')\n",
    "}"
   ]
  },
  {
   "cell_type": "markdown",
   "metadata": {},
   "source": [
    "From mathematical aspect, we can verify the facts as follows:\n",
    "\n",
    "Least squares estimation seeks to minimize the sum of squares of the differences between the observed response, yi, and the regression model:\n",
    "$$S(a,b)=\\sum_{i=1}^{n}(y_{i}−a−bx_{i})^{2}$$\n",
    "To minimize this function, it is necessary that the first partial derivatives with respect to a and b are equal to zero when assessed in $\\hat{β_{0}}$ and $\\hat{β_{1}}$.\n",
    "$$−2\\sum_{i=1}^{n}(y_{i}−\\hat{β_{1}}X_{i}−\\hat{β_{0}})=0$$\n",
    "Since $y_{i}−\\hat{β_{1}}X_{i}−\\hat{β_{0}}$ is the residual and $\\sum_{i=1}^{n}e_{i}=0$. Therefore, because the sum of residuals is zero, the sum of fitted values is always the same as the sum of response variable. Since sum and number of fitted valuess and response variable are same, the mean of the fitted values is also always the same as the mean of response variable."
   ]
  },
  {
   "cell_type": "markdown",
   "metadata": {},
   "source": [
    "### 3.5. Obtain residuals and the sum of residuals, and verify the fact that the sum of residuals is always zero.\n",
    "### *Answer:*\n",
    "I use the following code to obtain residuals and sum them up.\n"
   ]
  },
  {
   "cell_type": "code",
   "execution_count": 9,
   "metadata": {},
   "outputs": [
    {
     "data": {
      "text/html": [
       "<dl class=dl-horizontal>\n",
       "\t<dt>1</dt>\n",
       "\t\t<dd>-0.156115896577171</dd>\n",
       "\t<dt>2</dt>\n",
       "\t\t<dd>-0.354862561730147</dd>\n",
       "\t<dt>3</dt>\n",
       "\t\t<dd>-0.164862561730147</dd>\n",
       "\t<dt>4</dt>\n",
       "\t\t<dd>0.0917107765226772</dd>\n",
       "\t<dt>5</dt>\n",
       "\t\t<dd>0.104524110234433</dd>\n",
       "\t<dt>6</dt>\n",
       "\t\t<dd>-0.0335825481069419</dd>\n",
       "\t<dt>7</dt>\n",
       "\t\t<dd>0.67501078503718</dd>\n",
       "\t<dt>8</dt>\n",
       "\t\t<dd>0.0792307856048136</dd>\n",
       "\t<dt>9</dt>\n",
       "\t\t<dd>-0.109515879548163</dd>\n",
       "\t<dt>10</dt>\n",
       "\t\t<dd>0.391584123290004</dd>\n",
       "\t<dt>11</dt>\n",
       "\t\t<dd>-0.191382542430607</dd>\n",
       "\t<dt>12</dt>\n",
       "\t\t<dd>-0.53324920531305</dd>\n",
       "\t<dt>13</dt>\n",
       "\t\t<dd>0.35675079468695</dd>\n",
       "\t<dt>14</dt>\n",
       "\t\t<dd>0.127390801498553</dd>\n",
       "\t<dt>15</dt>\n",
       "\t\t<dd>-0.339795864789692</dd>\n",
       "\t<dt>16</dt>\n",
       "\t\t<dd>0.694117471760232</dd>\n",
       "\t<dt>17</dt>\n",
       "\t\t<dd>0.162097476868933</dd>\n",
       "\t<dt>18</dt>\n",
       "\t\t<dd>-0.723835854572288</dd>\n",
       "\t<dt>19</dt>\n",
       "\t\t<dd>0.133197479707101</dd>\n",
       "\t<dt>20</dt>\n",
       "\t\t<dd>-0.26976918601351</dd>\n",
       "\t<dt>21</dt>\n",
       "\t\t<dd>0.06135749560084</dd>\n",
       "</dl>\n"
      ],
      "text/latex": [
       "\\begin{description*}\n",
       "\\item[1] -0.156115896577171\n",
       "\\item[2] -0.354862561730147\n",
       "\\item[3] -0.164862561730147\n",
       "\\item[4] 0.0917107765226772\n",
       "\\item[5] 0.104524110234433\n",
       "\\item[6] -0.0335825481069419\n",
       "\\item[7] 0.67501078503718\n",
       "\\item[8] 0.0792307856048136\n",
       "\\item[9] -0.109515879548163\n",
       "\\item[10] 0.391584123290004\n",
       "\\item[11] -0.191382542430607\n",
       "\\item[12] -0.53324920531305\n",
       "\\item[13] 0.35675079468695\n",
       "\\item[14] 0.127390801498553\n",
       "\\item[15] -0.339795864789692\n",
       "\\item[16] 0.694117471760232\n",
       "\\item[17] 0.162097476868933\n",
       "\\item[18] -0.723835854572288\n",
       "\\item[19] 0.133197479707101\n",
       "\\item[20] -0.26976918601351\n",
       "\\item[21] 0.06135749560084\n",
       "\\end{description*}\n"
      ],
      "text/markdown": [
       "1\n",
       ":   -0.1561158965771712\n",
       ":   -0.3548625617301473\n",
       ":   -0.1648625617301474\n",
       ":   0.09171077652267725\n",
       ":   0.1045241102344336\n",
       ":   -0.03358254810694197\n",
       ":   0.675010785037188\n",
       ":   0.07923078560481369\n",
       ":   -0.10951587954816310\n",
       ":   0.39158412329000411\n",
       ":   -0.19138254243060712\n",
       ":   -0.5332492053130513\n",
       ":   0.3567507946869514\n",
       ":   0.12739080149855315\n",
       ":   -0.33979586478969216\n",
       ":   0.69411747176023217\n",
       ":   0.16209747686893318\n",
       ":   -0.72383585457228819\n",
       ":   0.13319747970710120\n",
       ":   -0.2697691860135121\n",
       ":   0.06135749560084\n",
       "\n"
      ],
      "text/plain": [
       "          1           2           3           4           5           6 \n",
       "-0.15611590 -0.35486256 -0.16486256  0.09171078  0.10452411 -0.03358255 \n",
       "          7           8           9          10          11          12 \n",
       " 0.67501079  0.07923079 -0.10951588  0.39158412 -0.19138254 -0.53324921 \n",
       "         13          14          15          16          17          18 \n",
       " 0.35675079  0.12739080 -0.33979586  0.69411747  0.16209748 -0.72383585 \n",
       "         19          20          21 \n",
       " 0.13319748 -0.26976919  0.06135750 "
      ]
     },
     "metadata": {},
     "output_type": "display_data"
    }
   ],
   "source": [
    "model1$residuals"
   ]
  },
  {
   "cell_type": "code",
   "execution_count": 10,
   "metadata": {},
   "outputs": [
    {
     "data": {
      "text/html": [
       "5.06539254985228e-16"
      ],
      "text/latex": [
       "5.06539254985228e-16"
      ],
      "text/markdown": [
       "5.06539254985228e-16"
      ],
      "text/plain": [
       "[1] 5.065393e-16"
      ]
     },
     "metadata": {},
     "output_type": "display_data"
    }
   ],
   "source": [
    "sum(model1$residuals)"
   ]
  },
  {
   "cell_type": "markdown",
   "metadata": {},
   "source": [
    "As we can see, the sum of the residuals is $5×10^{-16}$ which can be considered as 0. Also by following the mathematical logic, to minimize the difference between fitted values and response variables, it is necessary that the first partial derivatives with respect to a and b are equal to zero when assessed in $\\hat{β_{0}}$ and $\\hat{β_{1}}$.\n",
    "$$−2\\sum_{i=1}^{n}(y_{i}−\\hat{β_{1}}X_{i}−\\hat{β_{0}})=0$$\n",
    "And $y_{i}−\\hat{β_{1}}X_{i}−\\hat{β_{0}}$ is the residual, therefore, sum of the residuals is always zero."
   ]
  },
  {
   "cell_type": "markdown",
   "metadata": {},
   "source": [
    "### 3.6. Obtain the standard errors of (β_0 ) ̂, (β_1 ) ̂.  Are these standard errors satisfactory and why?\n",
    "### *Answer:*\n",
    "I use the following code to obtain the standard errors of $\\hat{β_{0}}$ and $\\hat{β_{1}}$."
   ]
  },
  {
   "cell_type": "code",
   "execution_count": 11,
   "metadata": {},
   "outputs": [
    {
     "data": {
      "text/html": [
       "<table>\n",
       "<thead><tr><th></th><th scope=col>Estimate</th><th scope=col>Std. Error</th><th scope=col>t value</th><th scope=col>Pr(&gt;|t|)</th></tr></thead>\n",
       "<tbody>\n",
       "\t<tr><th scope=row>(Intercept)</th><td>0.322995899 </td><td>0.1521958377</td><td>2.122239    </td><td>4.718525e-02</td></tr>\n",
       "\t<tr><th scope=row>df[, 2]</th><td>0.008593333 </td><td>0.0009499341</td><td>9.046242    </td><td>2.578534e-08</td></tr>\n",
       "</tbody>\n",
       "</table>\n"
      ],
      "text/latex": [
       "\\begin{tabular}{r|llll}\n",
       "  & Estimate & Std. Error & t value & Pr(>\\textbar{}t\\textbar{})\\\\\n",
       "\\hline\n",
       "\t(Intercept) & 0.322995899  & 0.1521958377 & 2.122239     & 4.718525e-02\\\\\n",
       "\tdf{[}, 2{]} & 0.008593333  & 0.0009499341 & 9.046242     & 2.578534e-08\\\\\n",
       "\\end{tabular}\n"
      ],
      "text/markdown": [
       "\n",
       "| <!--/--> | Estimate | Std. Error | t value | Pr(>|t|) |\n",
       "|---|---|---|---|---|\n",
       "| (Intercept) | 0.322995899  | 0.1521958377 | 2.122239     | 4.718525e-02 |\n",
       "| df[, 2] | 0.008593333  | 0.0009499341 | 9.046242     | 2.578534e-08 |\n",
       "\n"
      ],
      "text/plain": [
       "            Estimate    Std. Error   t value  Pr(>|t|)    \n",
       "(Intercept) 0.322995899 0.1521958377 2.122239 4.718525e-02\n",
       "df[, 2]     0.008593333 0.0009499341 9.046242 2.578534e-08"
      ]
     },
     "metadata": {},
     "output_type": "display_data"
    }
   ],
   "source": [
    "summary(model1)$coef"
   ]
  },
  {
   "cell_type": "markdown",
   "metadata": {},
   "source": [
    "As we can see the standard error of $\\hat{β_{0}}$ is 0.1521958377 and the estimate of it is 0.322995899. The estimate is more than twice of SE. The SE of $\\hat{β_{1}}$ is 0.0009499341 and estimate is 0.008593333. The estimate is also more thant twice of SE. Therefore, we conclude that these standard erros are satisfactory. "
   ]
  },
  {
   "cell_type": "markdown",
   "metadata": {},
   "source": [
    "### 4. Suppose we increase SO2 Concentration by one unit, how does such a change influence the Surface Recession Rate?  \n",
    "### *Answer:*\n",
    "Given that the estimate of slope $\\hat{β_{1}}$ is 0.008593333, if we increase $SO_{2}$ concentration by one unit, the surface recession rate will increase 0.008593333.\n"
   ]
  },
  {
   "cell_type": "markdown",
   "metadata": {},
   "source": [
    "### 5. Does the intercept of the linear regression have natural interpretation?  If so, what does it mean?\n",
    "### *Answer:*\n",
    "Yes, it means if the mean $SO_{2}$ concentrations over a 100 year period is 0, what the marble tombstone mean surface recession rate would be."
   ]
  },
  {
   "cell_type": "markdown",
   "metadata": {},
   "source": [
    "### 6. Which city (i.e., observation) has the highest Surface Recession Rate?\n",
    "### *Answer:*\n",
    "I use the following code to find the city with the highest surface recession rate."
   ]
  },
  {
   "cell_type": "code",
   "execution_count": 12,
   "metadata": {},
   "outputs": [
    {
     "data": {
      "text/html": [
       "<table>\n",
       "<thead><tr><th></th><th scope=col>City</th><th scope=col>Modelled.100.Year.Mean.SO2.Concentration..ug.m..3.</th><th scope=col>Marble.Tombstone.Mean.Surface.Recession.Rate..mm.100years.</th></tr></thead>\n",
       "<tbody>\n",
       "\t<tr><th scope=row>21</th><td>Chicago,IL</td><td>323       </td><td>3.16      </td></tr>\n",
       "</tbody>\n",
       "</table>\n"
      ],
      "text/latex": [
       "\\begin{tabular}{r|lll}\n",
       "  & City & Modelled.100.Year.Mean.SO2.Concentration..ug.m..3. & Marble.Tombstone.Mean.Surface.Recession.Rate..mm.100years.\\\\\n",
       "\\hline\n",
       "\t21 & Chicago,IL & 323        & 3.16      \\\\\n",
       "\\end{tabular}\n"
      ],
      "text/markdown": [
       "\n",
       "| <!--/--> | City | Modelled.100.Year.Mean.SO2.Concentration..ug.m..3. | Marble.Tombstone.Mean.Surface.Recession.Rate..mm.100years. |\n",
       "|---|---|---|---|\n",
       "| 21 | Chicago,IL | 323        | 3.16       |\n",
       "\n"
      ],
      "text/plain": [
       "   City       Modelled.100.Year.Mean.SO2.Concentration..ug.m..3.\n",
       "21 Chicago,IL 323                                               \n",
       "   Marble.Tombstone.Mean.Surface.Recession.Rate..mm.100years.\n",
       "21 3.16                                                      "
      ]
     },
     "metadata": {},
     "output_type": "display_data"
    }
   ],
   "source": [
    "df[which.max(df[,3]),]"
   ]
  },
  {
   "cell_type": "markdown",
   "metadata": {},
   "source": [
    "As we can see Chicago has the highest surface recession rate."
   ]
  },
  {
   "cell_type": "markdown",
   "metadata": {},
   "source": [
    "### 7. Which city (i.e., observation) has the largest residual (i.e., the largest absolute value) according to the linear regression you just fitted?\n",
    "### *Answer:*\n",
    "I use the following code to find the city with the largest residual according to the linear regression. Given that the residuals might be positive or negative, I need to get the absolute value of the residual before find the max."
   ]
  },
  {
   "cell_type": "code",
   "execution_count": 13,
   "metadata": {},
   "outputs": [
    {
     "data": {
      "text/html": [
       "<table>\n",
       "<thead><tr><th></th><th scope=col>City</th><th scope=col>Modelled.100.Year.Mean.SO2.Concentration..ug.m..3.</th><th scope=col>Marble.Tombstone.Mean.Surface.Recession.Rate..mm.100years.</th></tr></thead>\n",
       "<tbody>\n",
       "\t<tr><th scope=row>18</th><td>Brooklyn,NY</td><td>234        </td><td>1.61       </td></tr>\n",
       "</tbody>\n",
       "</table>\n"
      ],
      "text/latex": [
       "\\begin{tabular}{r|lll}\n",
       "  & City & Modelled.100.Year.Mean.SO2.Concentration..ug.m..3. & Marble.Tombstone.Mean.Surface.Recession.Rate..mm.100years.\\\\\n",
       "\\hline\n",
       "\t18 & Brooklyn,NY & 234         & 1.61       \\\\\n",
       "\\end{tabular}\n"
      ],
      "text/markdown": [
       "\n",
       "| <!--/--> | City | Modelled.100.Year.Mean.SO2.Concentration..ug.m..3. | Marble.Tombstone.Mean.Surface.Recession.Rate..mm.100years. |\n",
       "|---|---|---|---|\n",
       "| 18 | Brooklyn,NY | 234         | 1.61        |\n",
       "\n"
      ],
      "text/plain": [
       "   City        Modelled.100.Year.Mean.SO2.Concentration..ug.m..3.\n",
       "18 Brooklyn,NY 234                                               \n",
       "   Marble.Tombstone.Mean.Surface.Recession.Rate..mm.100years.\n",
       "18 1.61                                                      "
      ]
     },
     "metadata": {},
     "output_type": "display_data"
    }
   ],
   "source": [
    "df[which.max(abs(model1$residuals)),]"
   ]
  },
  {
   "cell_type": "markdown",
   "metadata": {},
   "source": [
    "As we can see, Brooklyn has the largest residual according to my linear regression."
   ]
  },
  {
   "cell_type": "markdown",
   "metadata": {},
   "source": [
    "### 8. Calculate the mean of covariate and mean of response.  Verify the fact that the fitted regression line go through the point (x ̅,y ̅).\n",
    "### *Answer:*\n",
    "I use the following code to calculate the mean of covariate and mean of response."
   ]
  },
  {
   "cell_type": "code",
   "execution_count": 14,
   "metadata": {},
   "outputs": [
    {
     "data": {
      "text/html": [
       "136.52380952381"
      ],
      "text/latex": [
       "136.52380952381"
      ],
      "text/markdown": [
       "136.52380952381"
      ],
      "text/plain": [
       "[1] 136.5238"
      ]
     },
     "metadata": {},
     "output_type": "display_data"
    }
   ],
   "source": [
    "mean(df[,2],)"
   ]
  },
  {
   "cell_type": "code",
   "execution_count": 15,
   "metadata": {},
   "outputs": [
    {
     "data": {
      "text/html": [
       "1.49619047619048"
      ],
      "text/latex": [
       "1.49619047619048"
      ],
      "text/markdown": [
       "1.49619047619048"
      ],
      "text/plain": [
       "[1] 1.49619"
      ]
     },
     "metadata": {},
     "output_type": "display_data"
    }
   ],
   "source": [
    "mean(df[,3],)"
   ]
  },
  {
   "cell_type": "code",
   "execution_count": 16,
   "metadata": {},
   "outputs": [
    {
     "data": {
      "text/html": [
       "1.49619045666667"
      ],
      "text/latex": [
       "1.49619045666667"
      ],
      "text/markdown": [
       "1.49619045666667"
      ],
      "text/plain": [
       "[1] 1.49619"
      ]
     },
     "metadata": {},
     "output_type": "display_data"
    }
   ],
   "source": [
    "0.322995899+0.008593333*136.52380952381"
   ]
  },
  {
   "cell_type": "markdown",
   "metadata": {},
   "source": [
    "As we can see the mean of covariate is 136.52380952381 and the mean of response is 1.49619047619048. And when put the $\\overline{x}$ into the fitted regression line, the result equals $\\overline{y}$."
   ]
  },
  {
   "cell_type": "markdown",
   "metadata": {},
   "source": [
    "### 9. Repeat the same questions (1 to 8, except 6, 7) for the date set  bus.csv. Description: Cross-sectional analysis of 24 British bus companies (1951). Use response variable = Expenses per car mile (pence), covariate = Car miles per year (1000s).\n",
    "### *Answer:*\n",
    "I use the following code to repeat the same process as question 1 to 8 except 6, 7.\n",
    "\n",
    "#### (1). Import the bus.csv dataset and show the first several observations of it."
   ]
  },
  {
   "cell_type": "code",
   "execution_count": 17,
   "metadata": {},
   "outputs": [
    {
     "data": {
      "text/html": [
       "<table>\n",
       "<thead><tr><th scope=col>Expenses.per.car.mile..pence.</th><th scope=col>Car.miles.per.year..1000s.</th><th scope=col>Percent.of.Double.Deckers.in.fleet</th><th scope=col>Percent.of.fleet.on.fuel.oil</th><th scope=col>Receipts.per.car.mile..pence.</th></tr></thead>\n",
       "<tbody>\n",
       "\t<tr><td>19.76 </td><td> 6235 </td><td>100.00</td><td>100.00</td><td>25.10 </td></tr>\n",
       "\t<tr><td>17.85 </td><td>46230 </td><td> 43.67</td><td> 84.53</td><td>19.23 </td></tr>\n",
       "\t<tr><td>19.96 </td><td> 7360 </td><td> 65.51</td><td> 81.57</td><td>21.42 </td></tr>\n",
       "\t<tr><td>16.80 </td><td>28715 </td><td> 45.16</td><td> 93.33</td><td>18.11 </td></tr>\n",
       "\t<tr><td>18.20 </td><td>21934 </td><td> 49.20</td><td> 83.07</td><td>19.24 </td></tr>\n",
       "\t<tr><td>16.71 </td><td> 1337 </td><td> 74.84</td><td> 94.99</td><td>19.31 </td></tr>\n",
       "</tbody>\n",
       "</table>\n"
      ],
      "text/latex": [
       "\\begin{tabular}{r|lllll}\n",
       " Expenses.per.car.mile..pence. & Car.miles.per.year..1000s. & Percent.of.Double.Deckers.in.fleet & Percent.of.fleet.on.fuel.oil & Receipts.per.car.mile..pence.\\\\\n",
       "\\hline\n",
       "\t 19.76  &  6235  & 100.00 & 100.00 & 25.10 \\\\\n",
       "\t 17.85  & 46230  &  43.67 &  84.53 & 19.23 \\\\\n",
       "\t 19.96  &  7360  &  65.51 &  81.57 & 21.42 \\\\\n",
       "\t 16.80  & 28715  &  45.16 &  93.33 & 18.11 \\\\\n",
       "\t 18.20  & 21934  &  49.20 &  83.07 & 19.24 \\\\\n",
       "\t 16.71  &  1337  &  74.84 &  94.99 & 19.31 \\\\\n",
       "\\end{tabular}\n"
      ],
      "text/markdown": [
       "\n",
       "| Expenses.per.car.mile..pence. | Car.miles.per.year..1000s. | Percent.of.Double.Deckers.in.fleet | Percent.of.fleet.on.fuel.oil | Receipts.per.car.mile..pence. |\n",
       "|---|---|---|---|---|\n",
       "| 19.76  |  6235  | 100.00 | 100.00 | 25.10  |\n",
       "| 17.85  | 46230  |  43.67 |  84.53 | 19.23  |\n",
       "| 19.96  |  7360  |  65.51 |  81.57 | 21.42  |\n",
       "| 16.80  | 28715  |  45.16 |  93.33 | 18.11  |\n",
       "| 18.20  | 21934  |  49.20 |  83.07 | 19.24  |\n",
       "| 16.71  |  1337  |  74.84 |  94.99 | 19.31  |\n",
       "\n"
      ],
      "text/plain": [
       "  Expenses.per.car.mile..pence. Car.miles.per.year..1000s.\n",
       "1 19.76                          6235                     \n",
       "2 17.85                         46230                     \n",
       "3 19.96                          7360                     \n",
       "4 16.80                         28715                     \n",
       "5 18.20                         21934                     \n",
       "6 16.71                          1337                     \n",
       "  Percent.of.Double.Deckers.in.fleet Percent.of.fleet.on.fuel.oil\n",
       "1 100.00                             100.00                      \n",
       "2  43.67                              84.53                      \n",
       "3  65.51                              81.57                      \n",
       "4  45.16                              93.33                      \n",
       "5  49.20                              83.07                      \n",
       "6  74.84                              94.99                      \n",
       "  Receipts.per.car.mile..pence.\n",
       "1 25.10                        \n",
       "2 19.23                        \n",
       "3 21.42                        \n",
       "4 18.11                        \n",
       "5 19.24                        \n",
       "6 19.31                        "
      ]
     },
     "metadata": {},
     "output_type": "display_data"
    }
   ],
   "source": [
    "bus = read.csv('bus.csv')\n",
    "head(bus)"
   ]
  },
  {
   "cell_type": "markdown",
   "metadata": {},
   "source": [
    "#### (2). Plot response variable vs covariate. As we can see there is a negative relationship between two variables. "
   ]
  },
  {
   "cell_type": "code",
   "execution_count": 18,
   "metadata": {},
   "outputs": [
    {
     "data": {
      "image/png": "[encoded data removed]",
      "text/plain": [
       "plot without title"
      ]
     },
     "metadata": {},
     "output_type": "display_data"
    }
   ],
   "source": [
    "plot(bus[,2], bus[,1])"
   ]
  },
  {
   "cell_type": "markdown",
   "metadata": {},
   "source": [
    "#### (3.1). Perform linear regression on the data and get the $\\hat{β_{0}}$ and $\\hat{β_{1}}$. Since the estimate of the slope is negative, it verifies that the relationship between covariate and response variable is negative."
   ]
  },
  {
   "cell_type": "code",
   "execution_count": 19,
   "metadata": {},
   "outputs": [
    {
     "data": {
      "text/html": [
       "<table>\n",
       "<thead><tr><th></th><th scope=col>Estimate</th><th scope=col>Std. Error</th><th scope=col>t value</th><th scope=col>Pr(&gt;|t|)</th></tr></thead>\n",
       "<tbody>\n",
       "\t<tr><th scope=row>(Intercept)</th><td> 1.878180e+01</td><td>4.075464e-01 </td><td>46.08506     </td><td>2.223005e-23 </td></tr>\n",
       "\t<tr><th scope=row>bus[, 2]</th><td>-4.449914e-05</td><td>2.187948e-05 </td><td>-2.03383     </td><td>5.420264e-02 </td></tr>\n",
       "</tbody>\n",
       "</table>\n"
      ],
      "text/latex": [
       "\\begin{tabular}{r|llll}\n",
       "  & Estimate & Std. Error & t value & Pr(>\\textbar{}t\\textbar{})\\\\\n",
       "\\hline\n",
       "\t(Intercept) &  1.878180e+01 & 4.075464e-01  & 46.08506      & 2.223005e-23 \\\\\n",
       "\tbus{[}, 2{]} & -4.449914e-05 & 2.187948e-05  & -2.03383      & 5.420264e-02 \\\\\n",
       "\\end{tabular}\n"
      ],
      "text/markdown": [
       "\n",
       "| <!--/--> | Estimate | Std. Error | t value | Pr(>|t|) |\n",
       "|---|---|---|---|---|\n",
       "| (Intercept) |  1.878180e+01 | 4.075464e-01  | 46.08506      | 2.223005e-23  |\n",
       "| bus[, 2] | -4.449914e-05 | 2.187948e-05  | -2.03383      | 5.420264e-02  |\n",
       "\n"
      ],
      "text/plain": [
       "            Estimate      Std. Error   t value  Pr(>|t|)    \n",
       "(Intercept)  1.878180e+01 4.075464e-01 46.08506 2.223005e-23\n",
       "bus[, 2]    -4.449914e-05 2.187948e-05 -2.03383 5.420264e-02"
      ]
     },
     "metadata": {},
     "output_type": "display_data"
    }
   ],
   "source": [
    "model2 = lm(bus[,1]~bus[,2])\n",
    "summary(model2)$coef"
   ]
  },
  {
   "cell_type": "markdown",
   "metadata": {},
   "source": [
    "#### (3.2). Obtain fitted values and sum of fitted values. These fitted values estimate the mean response of $y_{i}$ at $x_{i}$."
   ]
  },
  {
   "cell_type": "code",
   "execution_count": 20,
   "metadata": {},
   "outputs": [
    {
     "data": {
      "text/html": [
       "<dl class=dl-horizontal>\n",
       "\t<dt>1</dt>\n",
       "\t\t<dd>18.5043498606425</dd>\n",
       "\t<dt>2</dt>\n",
       "\t\t<dd>16.7246067038575</dd>\n",
       "\t<dt>3</dt>\n",
       "\t\t<dd>18.4542883266662</dd>\n",
       "\t<dt>4</dt>\n",
       "\t\t<dd>17.5040091639423</dd>\n",
       "\t<dt>5</dt>\n",
       "\t\t<dd>17.8057578411809</dd>\n",
       "\t<dt>6</dt>\n",
       "\t\t<dd>18.7223066547902</dd>\n",
       "\t<dt>7</dt>\n",
       "\t\t<dd>17.9861128609196</dd>\n",
       "\t<dt>8</dt>\n",
       "\t\t<dd>18.6786084980215</dd>\n",
       "\t<dt>9</dt>\n",
       "\t\t<dd>17.979037497451</dd>\n",
       "\t<dt>10</dt>\n",
       "\t\t<dd>18.7307614916395</dd>\n",
       "\t<dt>11</dt>\n",
       "\t\t<dd>18.6849718752292</dd>\n",
       "\t<dt>12</dt>\n",
       "\t\t<dd>18.1914318989345</dd>\n",
       "\t<dt>13</dt>\n",
       "\t\t<dd>18.6224505816854</dd>\n",
       "\t<dt>14</dt>\n",
       "\t\t<dd>18.1096869763439</dd>\n",
       "\t<dt>15</dt>\n",
       "\t\t<dd>16.6899418727752</dd>\n",
       "\t<dt>16</dt>\n",
       "\t\t<dd>18.3306252129594</dd>\n",
       "\t<dt>17</dt>\n",
       "\t\t<dd>18.508265785078</dd>\n",
       "\t<dt>18</dt>\n",
       "\t\t<dd>17.7543613329652</dd>\n",
       "\t<dt>19</dt>\n",
       "\t\t<dd>17.8673446527571</dd>\n",
       "\t<dt>20</dt>\n",
       "\t\t<dd>18.3612851213236</dd>\n",
       "\t<dt>21</dt>\n",
       "\t\t<dd>18.7360568894557</dd>\n",
       "\t<dt>22</dt>\n",
       "\t\t<dd>18.610569310955</dd>\n",
       "\t<dt>23</dt>\n",
       "\t\t<dd>18.0851234503395</dd>\n",
       "\t<dt>24</dt>\n",
       "\t\t<dd>18.4380461400873</dd>\n",
       "</dl>\n"
      ],
      "text/latex": [
       "\\begin{description*}\n",
       "\\item[1] 18.5043498606425\n",
       "\\item[2] 16.7246067038575\n",
       "\\item[3] 18.4542883266662\n",
       "\\item[4] 17.5040091639423\n",
       "\\item[5] 17.8057578411809\n",
       "\\item[6] 18.7223066547902\n",
       "\\item[7] 17.9861128609196\n",
       "\\item[8] 18.6786084980215\n",
       "\\item[9] 17.979037497451\n",
       "\\item[10] 18.7307614916395\n",
       "\\item[11] 18.6849718752292\n",
       "\\item[12] 18.1914318989345\n",
       "\\item[13] 18.6224505816854\n",
       "\\item[14] 18.1096869763439\n",
       "\\item[15] 16.6899418727752\n",
       "\\item[16] 18.3306252129594\n",
       "\\item[17] 18.508265785078\n",
       "\\item[18] 17.7543613329652\n",
       "\\item[19] 17.8673446527571\n",
       "\\item[20] 18.3612851213236\n",
       "\\item[21] 18.7360568894557\n",
       "\\item[22] 18.610569310955\n",
       "\\item[23] 18.0851234503395\n",
       "\\item[24] 18.4380461400873\n",
       "\\end{description*}\n"
      ],
      "text/markdown": [
       "1\n",
       ":   18.50434986064252\n",
       ":   16.72460670385753\n",
       ":   18.45428832666624\n",
       ":   17.50400916394235\n",
       ":   17.80575784118096\n",
       ":   18.72230665479027\n",
       ":   17.98611286091968\n",
       ":   18.67860849802159\n",
       ":   17.97903749745110\n",
       ":   18.730761491639511\n",
       ":   18.684971875229212\n",
       ":   18.191431898934513\n",
       ":   18.622450581685414\n",
       ":   18.109686976343915\n",
       ":   16.689941872775216\n",
       ":   18.330625212959417\n",
       ":   18.50826578507818\n",
       ":   17.754361332965219\n",
       ":   17.867344652757120\n",
       ":   18.361285121323621\n",
       ":   18.736056889455722\n",
       ":   18.61056931095523\n",
       ":   18.085123450339524\n",
       ":   18.4380461400873\n",
       "\n"
      ],
      "text/plain": [
       "       1        2        3        4        5        6        7        8 \n",
       "18.50435 16.72461 18.45429 17.50401 17.80576 18.72231 17.98611 18.67861 \n",
       "       9       10       11       12       13       14       15       16 \n",
       "17.97904 18.73076 18.68497 18.19143 18.62245 18.10969 16.68994 18.33063 \n",
       "      17       18       19       20       21       22       23       24 \n",
       "18.50827 17.75436 17.86734 18.36129 18.73606 18.61057 18.08512 18.43805 "
      ]
     },
     "metadata": {},
     "output_type": "display_data"
    }
   ],
   "source": [
    "model2$fitted.values"
   ]
  },
  {
   "cell_type": "code",
   "execution_count": 21,
   "metadata": {},
   "outputs": [
    {
     "data": {
      "text/html": [
       "436.08"
      ],
      "text/latex": [
       "436.08"
      ],
      "text/markdown": [
       "436.08"
      ],
      "text/plain": [
       "[1] 436.08"
      ]
     },
     "metadata": {},
     "output_type": "display_data"
    }
   ],
   "source": [
    "sum(model2$fitted.values)"
   ]
  },
  {
   "cell_type": "markdown",
   "metadata": {},
   "source": [
    "#### (3.3). Obtain sum of all the variable of response."
   ]
  },
  {
   "cell_type": "code",
   "execution_count": 22,
   "metadata": {},
   "outputs": [
    {
     "data": {
      "text/html": [
       "436.08"
      ],
      "text/latex": [
       "436.08"
      ],
      "text/markdown": [
       "436.08"
      ],
      "text/plain": [
       "[1] 436.08"
      ]
     },
     "metadata": {},
     "output_type": "display_data"
    }
   ],
   "source": [
    "sum(bus[,1])"
   ]
  },
  {
   "cell_type": "markdown",
   "metadata": {},
   "source": [
    "#### (3.4). Verify the fact that the sum of fitted values is the same as the sum of response variable and the mean of fitted values is the same as the mean of response variable. "
   ]
  },
  {
   "cell_type": "code",
   "execution_count": 23,
   "metadata": {},
   "outputs": [
    {
     "name": "stdout",
     "output_type": "stream",
     "text": [
      "[1] \"The sum of fitted values is the same as the sum of response variable\"\n"
     ]
    }
   ],
   "source": [
    "if (round(sum(model2$fitted.values), 2)==round(sum(bus[,1]), 2)) {\n",
    "    print('The sum of fitted values is the same as the sum of response variable')\n",
    "}"
   ]
  },
  {
   "cell_type": "code",
   "execution_count": 24,
   "metadata": {},
   "outputs": [
    {
     "name": "stdout",
     "output_type": "stream",
     "text": [
      "[1] \"The mean of fitted values is the same as the mean of response variable\"\n"
     ]
    }
   ],
   "source": [
    "if (round(mean(model2$fitted.values), 2)==round(mean(bus[,1]), 2)) {\n",
    "    print('The mean of fitted values is the same as the mean of response variable')\n",
    "}"
   ]
  },
  {
   "cell_type": "markdown",
   "metadata": {},
   "source": [
    "#### (3.5). Obtain residuals and sum of residuals. As shown the sum of residuals is 0."
   ]
  },
  {
   "cell_type": "code",
   "execution_count": 25,
   "metadata": {},
   "outputs": [
    {
     "data": {
      "text/html": [
       "<dl class=dl-horizontal>\n",
       "\t<dt>1</dt>\n",
       "\t\t<dd>1.25565013935747</dd>\n",
       "\t<dt>2</dt>\n",
       "\t\t<dd>1.12539329614253</dd>\n",
       "\t<dt>3</dt>\n",
       "\t\t<dd>1.50571167333376</dd>\n",
       "\t<dt>4</dt>\n",
       "\t\t<dd>-0.704009163942256</dd>\n",
       "\t<dt>5</dt>\n",
       "\t\t<dd>0.394242158819095</dd>\n",
       "\t<dt>6</dt>\n",
       "\t\t<dd>-2.01230665479017</dd>\n",
       "\t<dt>7</dt>\n",
       "\t\t<dd>0.823887139080377</dd>\n",
       "\t<dt>8</dt>\n",
       "\t\t<dd>2.0613915019785</dd>\n",
       "\t<dt>9</dt>\n",
       "\t\t<dd>-1.41903749745097</dd>\n",
       "\t<dt>10</dt>\n",
       "\t\t<dd>-0.180761491639504</dd>\n",
       "\t<dt>11</dt>\n",
       "\t\t<dd>-1.28497187522916</dd>\n",
       "\t<dt>12</dt>\n",
       "\t\t<dd>-0.571431898934533</dd>\n",
       "\t<dt>13</dt>\n",
       "\t\t<dd>2.61754941831461</dd>\n",
       "\t<dt>14</dt>\n",
       "\t\t<dd>0.120313023656146</dd>\n",
       "\t<dt>15</dt>\n",
       "\t\t<dd>0.1700581272248</dd>\n",
       "\t<dt>16</dt>\n",
       "\t\t<dd>-0.880625212959382</dd>\n",
       "\t<dt>17</dt>\n",
       "\t\t<dd>-0.848265785078048</dd>\n",
       "\t<dt>18</dt>\n",
       "\t\t<dd>0.545638667034793</dd>\n",
       "\t<dt>19</dt>\n",
       "\t\t<dd>-1.28734465275712</dd>\n",
       "\t<dt>20</dt>\n",
       "\t\t<dd>-0.851285121323548</dd>\n",
       "\t<dt>21</dt>\n",
       "\t\t<dd>2.43394311054433</dd>\n",
       "\t<dt>22</dt>\n",
       "\t\t<dd>-1.690569310955</dd>\n",
       "\t<dt>23</dt>\n",
       "\t\t<dd>-1.12512345033947</dd>\n",
       "\t<dt>24</dt>\n",
       "\t\t<dd>-0.198046140087254</dd>\n",
       "</dl>\n"
      ],
      "text/latex": [
       "\\begin{description*}\n",
       "\\item[1] 1.25565013935747\n",
       "\\item[2] 1.12539329614253\n",
       "\\item[3] 1.50571167333376\n",
       "\\item[4] -0.704009163942256\n",
       "\\item[5] 0.394242158819095\n",
       "\\item[6] -2.01230665479017\n",
       "\\item[7] 0.823887139080377\n",
       "\\item[8] 2.0613915019785\n",
       "\\item[9] -1.41903749745097\n",
       "\\item[10] -0.180761491639504\n",
       "\\item[11] -1.28497187522916\n",
       "\\item[12] -0.571431898934533\n",
       "\\item[13] 2.61754941831461\n",
       "\\item[14] 0.120313023656146\n",
       "\\item[15] 0.1700581272248\n",
       "\\item[16] -0.880625212959382\n",
       "\\item[17] -0.848265785078048\n",
       "\\item[18] 0.545638667034793\n",
       "\\item[19] -1.28734465275712\n",
       "\\item[20] -0.851285121323548\n",
       "\\item[21] 2.43394311054433\n",
       "\\item[22] -1.690569310955\n",
       "\\item[23] -1.12512345033947\n",
       "\\item[24] -0.198046140087254\n",
       "\\end{description*}\n"
      ],
      "text/markdown": [
       "1\n",
       ":   1.255650139357472\n",
       ":   1.125393296142533\n",
       ":   1.505711673333764\n",
       ":   -0.7040091639422565\n",
       ":   0.3942421588190956\n",
       ":   -2.012306654790177\n",
       ":   0.8238871390803778\n",
       ":   2.06139150197859\n",
       ":   -1.4190374974509710\n",
       ":   -0.18076149163950411\n",
       ":   -1.2849718752291612\n",
       ":   -0.57143189893453313\n",
       ":   2.6175494183146114\n",
       ":   0.12031302365614615\n",
       ":   0.170058127224816\n",
       ":   -0.88062521295938217\n",
       ":   -0.84826578507804818\n",
       ":   0.54563866703479319\n",
       ":   -1.2873446527571220\n",
       ":   -0.85128512132354821\n",
       ":   2.4339431105443322\n",
       ":   -1.69056931095523\n",
       ":   -1.1251234503394724\n",
       ":   -0.198046140087254\n",
       "\n"
      ],
      "text/plain": [
       "         1          2          3          4          5          6          7 \n",
       " 1.2556501  1.1253933  1.5057117 -0.7040092  0.3942422 -2.0123067  0.8238871 \n",
       "         8          9         10         11         12         13         14 \n",
       " 2.0613915 -1.4190375 -0.1807615 -1.2849719 -0.5714319  2.6175494  0.1203130 \n",
       "        15         16         17         18         19         20         21 \n",
       " 0.1700581 -0.8806252 -0.8482658  0.5456387 -1.2873447 -0.8512851  2.4339431 \n",
       "        22         23         24 \n",
       "-1.6905693 -1.1251235 -0.1980461 "
      ]
     },
     "metadata": {},
     "output_type": "display_data"
    }
   ],
   "source": [
    "model2$residuals"
   ]
  },
  {
   "cell_type": "code",
   "execution_count": 26,
   "metadata": {},
   "outputs": [
    {
     "data": {
      "text/html": [
       "0"
      ],
      "text/latex": [
       "0"
      ],
      "text/markdown": [
       "0"
      ],
      "text/plain": [
       "[1] 0"
      ]
     },
     "metadata": {},
     "output_type": "display_data"
    }
   ],
   "source": [
    "round(sum(model2$residuals),5)"
   ]
  },
  {
   "cell_type": "markdown",
   "metadata": {},
   "source": [
    "#### (3.6). Obtain the standard errors. As we can see the two estimates are all more than twice of the corresponding standard error, so the standard errors are satisfactory."
   ]
  },
  {
   "cell_type": "code",
   "execution_count": 27,
   "metadata": {},
   "outputs": [
    {
     "data": {
      "text/html": [
       "<table>\n",
       "<thead><tr><th></th><th scope=col>Estimate</th><th scope=col>Std. Error</th><th scope=col>t value</th><th scope=col>Pr(&gt;|t|)</th></tr></thead>\n",
       "<tbody>\n",
       "\t<tr><th scope=row>(Intercept)</th><td> 1.878180e+01</td><td>4.075464e-01 </td><td>46.08506     </td><td>2.223005e-23 </td></tr>\n",
       "\t<tr><th scope=row>bus[, 2]</th><td>-4.449914e-05</td><td>2.187948e-05 </td><td>-2.03383     </td><td>5.420264e-02 </td></tr>\n",
       "</tbody>\n",
       "</table>\n"
      ],
      "text/latex": [
       "\\begin{tabular}{r|llll}\n",
       "  & Estimate & Std. Error & t value & Pr(>\\textbar{}t\\textbar{})\\\\\n",
       "\\hline\n",
       "\t(Intercept) &  1.878180e+01 & 4.075464e-01  & 46.08506      & 2.223005e-23 \\\\\n",
       "\tbus{[}, 2{]} & -4.449914e-05 & 2.187948e-05  & -2.03383      & 5.420264e-02 \\\\\n",
       "\\end{tabular}\n"
      ],
      "text/markdown": [
       "\n",
       "| <!--/--> | Estimate | Std. Error | t value | Pr(>|t|) |\n",
       "|---|---|---|---|---|\n",
       "| (Intercept) |  1.878180e+01 | 4.075464e-01  | 46.08506      | 2.223005e-23  |\n",
       "| bus[, 2] | -4.449914e-05 | 2.187948e-05  | -2.03383      | 5.420264e-02  |\n",
       "\n"
      ],
      "text/plain": [
       "            Estimate      Std. Error   t value  Pr(>|t|)    \n",
       "(Intercept)  1.878180e+01 4.075464e-01 46.08506 2.223005e-23\n",
       "bus[, 2]    -4.449914e-05 2.187948e-05 -2.03383 5.420264e-02"
      ]
     },
     "metadata": {},
     "output_type": "display_data"
    }
   ],
   "source": [
    "summary(model2)$coef"
   ]
  },
  {
   "cell_type": "markdown",
   "metadata": {},
   "source": [
    "#### (4). Suppose we increase the covariate by one unit, the variable of response will decrease by $4.45×10^{-5}$ according to my linear regression model.\n",
    "#### (5). The natural interpretation of the intercept of the linear regression is that if the covariate, car miles per year, is 0, the variable of response, expense per car mile, is 18.78. \n",
    "#### (8). Calculate the mean of covariate and mean of response. And as the following result shows, the fitted line goes through the point $(\\overline{x},\\overline{y})$"
   ]
  },
  {
   "cell_type": "code",
   "execution_count": 28,
   "metadata": {},
   "outputs": [
    {
     "data": {
      "text/html": [
       "13748.625"
      ],
      "text/latex": [
       "13748.625"
      ],
      "text/markdown": [
       "13748.625"
      ],
      "text/plain": [
       "[1] 13748.62"
      ]
     },
     "metadata": {},
     "output_type": "display_data"
    }
   ],
   "source": [
    "mean(bus[,2])"
   ]
  },
  {
   "cell_type": "code",
   "execution_count": 29,
   "metadata": {},
   "outputs": [
    {
     "data": {
      "text/html": [
       "18.17"
      ],
      "text/latex": [
       "18.17"
      ],
      "text/markdown": [
       "18.17"
      ],
      "text/plain": [
       "[1] 18.17"
      ]
     },
     "metadata": {},
     "output_type": "display_data"
    }
   ],
   "source": [
    "mean(bus[,1])"
   ]
  },
  {
   "cell_type": "code",
   "execution_count": 30,
   "metadata": {},
   "outputs": [
    {
     "data": {
      "text/html": [
       "18.17"
      ],
      "text/latex": [
       "18.17"
      ],
      "text/markdown": [
       "18.17"
      ],
      "text/plain": [
       "[1] 18.17"
      ]
     },
     "metadata": {},
     "output_type": "display_data"
    }
   ],
   "source": [
    "round(1.878180e+01+13748.625*-4.449914e-05, 2)"
   ]
  }
 ],
 "metadata": {
  "kernelspec": {
   "display_name": "R",
   "language": "R",
   "name": "ir"
  },
  "language_info": {
   "codemirror_mode": "r",
   "file_extension": ".r",
   "mimetype": "text/x-r-source",
   "name": "R",
   "pygments_lexer": "r",
   "version": "3.5.0"
  }
 },
 "nbformat": 4,
 "nbformat_minor": 2
}
