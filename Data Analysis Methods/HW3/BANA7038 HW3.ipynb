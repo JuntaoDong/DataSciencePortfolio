{
 "cells": [
  {
   "cell_type": "markdown",
   "metadata": {},
   "source": [
    "## BANA7038 Data Analysis Methods HW3\n",
    "### Last Name: Dong\n",
    "### First Name: Juntao\n",
    "### M-number: M10453134\n",
    "\n",
    "### 1. Read tombstone.csv into R.  Use response variable = Marble Tombstone Mean Surface Recession Rate, and covariate = Mean SO2 concentrations over a 100 year period.  Description: Marble Tombstone Mean Surface Recession Rates and Mean SO2 concentrations over a 100 year period.\n",
    "### *Answer:*\n",
    "I use the following code to read tombstone.csv into R.\n"
   ]
  },
  {
   "cell_type": "code",
   "execution_count": 1,
   "metadata": {},
   "outputs": [
    {
     "data": {
      "text/html": [
       "<table>\n",
       "<thead><tr><th scope=col>City</th><th scope=col>x</th><th scope=col>y</th></tr></thead>\n",
       "<tbody>\n",
       "\t<tr><td>Washington,DC (Rural)</td><td>12                   </td><td>0.27                 </td></tr>\n",
       "\t<tr><td>Cincinnati,OH (Rural)</td><td>20                   </td><td>0.14                 </td></tr>\n",
       "\t<tr><td>Philadelphia,PA (Rura</td><td>20                   </td><td>0.33                 </td></tr>\n",
       "\t<tr><td>Richmond,VA          </td><td>46                   </td><td>0.81                 </td></tr>\n",
       "\t<tr><td>Fall River,MA        </td><td>48                   </td><td>0.84                 </td></tr>\n",
       "\t<tr><td>Hartford,CT          </td><td>92                   </td><td>1.08                 </td></tr>\n",
       "</tbody>\n",
       "</table>\n"
      ],
      "text/latex": [
       "\\begin{tabular}{r|lll}\n",
       " City & x & y\\\\\n",
       "\\hline\n",
       "\t Washington,DC (Rural) & 12                    & 0.27                 \\\\\n",
       "\t Cincinnati,OH (Rural) & 20                    & 0.14                 \\\\\n",
       "\t Philadelphia,PA (Rura & 20                    & 0.33                 \\\\\n",
       "\t Richmond,VA           & 46                    & 0.81                 \\\\\n",
       "\t Fall River,MA         & 48                    & 0.84                 \\\\\n",
       "\t Hartford,CT           & 92                    & 1.08                 \\\\\n",
       "\\end{tabular}\n"
      ],
      "text/markdown": [
       "\n",
       "| City | x | y |\n",
       "|---|---|---|\n",
       "| Washington,DC (Rural) | 12                    | 0.27                  |\n",
       "| Cincinnati,OH (Rural) | 20                    | 0.14                  |\n",
       "| Philadelphia,PA (Rura | 20                    | 0.33                  |\n",
       "| Richmond,VA           | 46                    | 0.81                  |\n",
       "| Fall River,MA         | 48                    | 0.84                  |\n",
       "| Hartford,CT           | 92                    | 1.08                  |\n",
       "\n"
      ],
      "text/plain": [
       "  City                  x  y   \n",
       "1 Washington,DC (Rural) 12 0.27\n",
       "2 Cincinnati,OH (Rural) 20 0.14\n",
       "3 Philadelphia,PA (Rura 20 0.33\n",
       "4 Richmond,VA           46 0.81\n",
       "5 Fall River,MA         48 0.84\n",
       "6 Hartford,CT           92 1.08"
      ]
     },
     "metadata": {},
     "output_type": "display_data"
    }
   ],
   "source": [
    "df = read.csv('tombstone.csv')\n",
    "names(df) = c('City', 'x', 'y')\n",
    "head(df)"
   ]
  },
  {
   "cell_type": "markdown",
   "metadata": {},
   "source": [
    "I rename the columns using x and y to avoid the original long names.\n",
    "### 2. Obtain R^2, explain what it means.\n",
    "### *Answer:*\n",
    "I use the following code to perform linear regression and get R square."
   ]
  },
  {
   "cell_type": "code",
   "execution_count": 2,
   "metadata": {},
   "outputs": [
    {
     "data": {
      "text/html": [
       "0.811572403847066"
      ],
      "text/latex": [
       "0.811572403847066"
      ],
      "text/markdown": [
       "0.811572403847066"
      ],
      "text/plain": [
       "[1] 0.8115724"
      ]
     },
     "metadata": {},
     "output_type": "display_data"
    }
   ],
   "source": [
    "model1 = lm(y~x, data=df)\n",
    "summary(model1)$r.square"
   ]
  },
  {
   "cell_type": "markdown",
   "metadata": {},
   "source": [
    "This means the $R^{2}$ for the fitted linear regression to the rocket propellant data set is 0.8116, which means 81% of the variation in y can be explained by the variation in x.\n",
    "### 3. Perform the following hypothesis testing and interval estimation using lm() and other related R functions.\n",
    "### 3.1. Perform hypothesis tests for each coefficient, obtain p values, interpret the results, make a conclusion (i.e. reject or not reject) and explain why.  Note: please explain what the null hypothesis is.\n",
    "I use the following code to get the coefficients."
   ]
  },
  {
   "cell_type": "code",
   "execution_count": 3,
   "metadata": {},
   "outputs": [
    {
     "data": {
      "text/plain": [
       "\n",
       "Call:\n",
       "lm(formula = y ~ x, data = df)\n",
       "\n",
       "Residuals:\n",
       "     Min       1Q   Median       3Q      Max \n",
       "-0.72384 -0.19138  0.06136  0.13320  0.69412 \n",
       "\n",
       "Coefficients:\n",
       "             Estimate Std. Error t value Pr(>|t|)    \n",
       "(Intercept) 0.3229959  0.1521958   2.122   0.0472 *  \n",
       "x           0.0085933  0.0009499   9.046 2.58e-08 ***\n",
       "---\n",
       "Signif. codes:  0 '***' 0.001 '**' 0.01 '*' 0.05 '.' 0.1 ' ' 1\n",
       "\n",
       "Residual standard error: 0.365 on 19 degrees of freedom\n",
       "Multiple R-squared:  0.8116,\tAdjusted R-squared:  0.8017 \n",
       "F-statistic: 81.83 on 1 and 19 DF,  p-value: 2.579e-08\n"
      ]
     },
     "metadata": {},
     "output_type": "display_data"
    }
   ],
   "source": [
    "summary(model1)"
   ]
  },
  {
   "cell_type": "markdown",
   "metadata": {},
   "source": [
    "a. For hypothesis testing for slope, the null hypothesis is H0:β1=0 which means the covariate should not influence the response variable. As we can see the p-value for the slope is 2.58e-8 which is much less than 5%, we say the p-value is significant. Therefore, we conclude we have a significant nonzero slope and there is a significant linear relationship between y and x.\n",
    "\n",
    "b. For hypothesis testing for intercept, the null hypothesis is H0:β0=0. As we can see the p-value for the intercept is 0.0472 which is less than 5%. Therefore, we conclude we have a significant nonzero intercept."
   ]
  },
  {
   "cell_type": "markdown",
   "metadata": {},
   "source": [
    "### 3.2. Compute interval estimation for coefficients, interpret the meanings of these quantities.\n",
    "### *Answer:*\n",
    "I use the following code to compute interval estiamtion for coeffcients with confidence of 95%.\n"
   ]
  },
  {
   "cell_type": "code",
   "execution_count": 4,
   "metadata": {},
   "outputs": [
    {
     "data": {
      "text/html": [
       "<table>\n",
       "<thead><tr><th></th><th scope=col>2.5 %</th><th scope=col>97.5 %</th></tr></thead>\n",
       "<tbody>\n",
       "\t<tr><th scope=row>(Intercept)</th><td>0.004446349</td><td>0.64154545 </td></tr>\n",
       "\t<tr><th scope=row>x</th><td>0.006605098</td><td>0.01058157 </td></tr>\n",
       "</tbody>\n",
       "</table>\n"
      ],
      "text/latex": [
       "\\begin{tabular}{r|ll}\n",
       "  & 2.5 \\% & 97.5 \\%\\\\\n",
       "\\hline\n",
       "\t(Intercept) & 0.004446349 & 0.64154545 \\\\\n",
       "\tx & 0.006605098 & 0.01058157 \\\\\n",
       "\\end{tabular}\n"
      ],
      "text/markdown": [
       "\n",
       "| <!--/--> | 2.5 % | 97.5 % |\n",
       "|---|---|---|\n",
       "| (Intercept) | 0.004446349 | 0.64154545  |\n",
       "| x | 0.006605098 | 0.01058157  |\n",
       "\n"
      ],
      "text/plain": [
       "            2.5 %       97.5 %    \n",
       "(Intercept) 0.004446349 0.64154545\n",
       "x           0.006605098 0.01058157"
      ]
     },
     "metadata": {},
     "output_type": "display_data"
    }
   ],
   "source": [
    "confint(model1,level=0.95)"
   ]
  },
  {
   "cell_type": "markdown",
   "metadata": {
    "collapsed": true
   },
   "source": [
    "As we can see given the confidence of 95%, the interval estimation for intercept is between 0.00445 and 0.64155 and the interval estimation for slope is between 0.00661 and 0.01058.\n",
    "### 3.3. Make prediction of the Recession Rate at the 1st, 2nd, 3rd, …., 99th percentiles of the SO2, and obtain their prediction intervals (two types of the intervals).\n",
    "### *Answer:*\n",
    "I use the following code to generate percentiles and then make two types of prediction intervals with confidence of 95%."
   ]
  },
  {
   "cell_type": "code",
   "execution_count": 5,
   "metadata": {},
   "outputs": [
    {
     "data": {
      "text/html": [
       "<table>\n",
       "<thead><tr><th></th><th scope=col>fit</th><th scope=col>lwr</th><th scope=col>upr</th></tr></thead>\n",
       "<tbody>\n",
       "\t<tr><th scope=row>1%</th><td>0.4398652 </td><td>-0.3793945</td><td>1.259125  </td></tr>\n",
       "\t<tr><th scope=row>2%</th><td>0.4536146 </td><td>-0.3647018</td><td>1.271931  </td></tr>\n",
       "\t<tr><th scope=row>3%</th><td>0.4673639 </td><td>-0.3500204</td><td>1.284748  </td></tr>\n",
       "\t<tr><th scope=row>4%</th><td>0.4811132 </td><td>-0.3353503</td><td>1.297577  </td></tr>\n",
       "\t<tr><th scope=row>5%</th><td>0.4948626 </td><td>-0.3206916</td><td>1.310417  </td></tr>\n",
       "\t<tr><th scope=row>6%</th><td>0.4948626 </td><td>-0.3206916</td><td>1.310417  </td></tr>\n",
       "</tbody>\n",
       "</table>\n"
      ],
      "text/latex": [
       "\\begin{tabular}{r|lll}\n",
       "  & fit & lwr & upr\\\\\n",
       "\\hline\n",
       "\t1\\% & 0.4398652  & -0.3793945 & 1.259125  \\\\\n",
       "\t2\\% & 0.4536146  & -0.3647018 & 1.271931  \\\\\n",
       "\t3\\% & 0.4673639  & -0.3500204 & 1.284748  \\\\\n",
       "\t4\\% & 0.4811132  & -0.3353503 & 1.297577  \\\\\n",
       "\t5\\% & 0.4948626  & -0.3206916 & 1.310417  \\\\\n",
       "\t6\\% & 0.4948626  & -0.3206916 & 1.310417  \\\\\n",
       "\\end{tabular}\n"
      ],
      "text/markdown": [
       "\n",
       "| <!--/--> | fit | lwr | upr |\n",
       "|---|---|---|---|\n",
       "| 1% | 0.4398652  | -0.3793945 | 1.259125   |\n",
       "| 2% | 0.4536146  | -0.3647018 | 1.271931   |\n",
       "| 3% | 0.4673639  | -0.3500204 | 1.284748   |\n",
       "| 4% | 0.4811132  | -0.3353503 | 1.297577   |\n",
       "| 5% | 0.4948626  | -0.3206916 | 1.310417   |\n",
       "| 6% | 0.4948626  | -0.3206916 | 1.310417   |\n",
       "\n"
      ],
      "text/plain": [
       "   fit       lwr        upr     \n",
       "1% 0.4398652 -0.3793945 1.259125\n",
       "2% 0.4536146 -0.3647018 1.271931\n",
       "3% 0.4673639 -0.3500204 1.284748\n",
       "4% 0.4811132 -0.3353503 1.297577\n",
       "5% 0.4948626 -0.3206916 1.310417\n",
       "6% 0.4948626 -0.3206916 1.310417"
      ]
     },
     "metadata": {},
     "output_type": "display_data"
    },
    {
     "data": {
      "text/html": [
       "<table>\n",
       "<thead><tr><th></th><th scope=col>fit</th><th scope=col>lwr</th><th scope=col>upr</th></tr></thead>\n",
       "<tbody>\n",
       "\t<tr><th scope=row>1%</th><td>0.4398652</td><td>0.1440183</td><td>0.7357122</td></tr>\n",
       "\t<tr><th scope=row>2%</th><td>0.4536146</td><td>0.1603901</td><td>0.7468390</td></tr>\n",
       "\t<tr><th scope=row>3%</th><td>0.4673639</td><td>0.1767508</td><td>0.7579770</td></tr>\n",
       "\t<tr><th scope=row>4%</th><td>0.4811132</td><td>0.1931000</td><td>0.7691264</td></tr>\n",
       "\t<tr><th scope=row>5%</th><td>0.4948626</td><td>0.2094375</td><td>0.7802876</td></tr>\n",
       "\t<tr><th scope=row>6%</th><td>0.4948626</td><td>0.2094375</td><td>0.7802876</td></tr>\n",
       "</tbody>\n",
       "</table>\n"
      ],
      "text/latex": [
       "\\begin{tabular}{r|lll}\n",
       "  & fit & lwr & upr\\\\\n",
       "\\hline\n",
       "\t1\\% & 0.4398652 & 0.1440183 & 0.7357122\\\\\n",
       "\t2\\% & 0.4536146 & 0.1603901 & 0.7468390\\\\\n",
       "\t3\\% & 0.4673639 & 0.1767508 & 0.7579770\\\\\n",
       "\t4\\% & 0.4811132 & 0.1931000 & 0.7691264\\\\\n",
       "\t5\\% & 0.4948626 & 0.2094375 & 0.7802876\\\\\n",
       "\t6\\% & 0.4948626 & 0.2094375 & 0.7802876\\\\\n",
       "\\end{tabular}\n"
      ],
      "text/markdown": [
       "\n",
       "| <!--/--> | fit | lwr | upr |\n",
       "|---|---|---|---|\n",
       "| 1% | 0.4398652 | 0.1440183 | 0.7357122 |\n",
       "| 2% | 0.4536146 | 0.1603901 | 0.7468390 |\n",
       "| 3% | 0.4673639 | 0.1767508 | 0.7579770 |\n",
       "| 4% | 0.4811132 | 0.1931000 | 0.7691264 |\n",
       "| 5% | 0.4948626 | 0.2094375 | 0.7802876 |\n",
       "| 6% | 0.4948626 | 0.2094375 | 0.7802876 |\n",
       "\n"
      ],
      "text/plain": [
       "   fit       lwr       upr      \n",
       "1% 0.4398652 0.1440183 0.7357122\n",
       "2% 0.4536146 0.1603901 0.7468390\n",
       "3% 0.4673639 0.1767508 0.7579770\n",
       "4% 0.4811132 0.1931000 0.7691264\n",
       "5% 0.4948626 0.2094375 0.7802876\n",
       "6% 0.4948626 0.2094375 0.7802876"
      ]
     },
     "metadata": {},
     "output_type": "display_data"
    }
   ],
   "source": [
    "percentiles = quantile(df$x, probs = seq(0.01, 0.99, by= 0.01))\n",
    "pred_p = predict(model1, newdata=data.frame(x=percentiles), interval=c(\"prediction\"), level=0.95, type=\"response\")\n",
    "pred_c = predict(model1, newdata=data.frame(x=percentiles), interval=c(\"confidence\"), level=0.95, type=\"response\")\n",
    "head(pred_p)\n",
    "head(pred_c)"
   ]
  },
  {
   "cell_type": "code",
   "execution_count": 6,
   "metadata": {},
   "outputs": [
    {
     "data": {
      "text/html": [
       "<table>\n",
       "<thead><tr><th></th><th scope=col>fit</th><th scope=col>lwr</th><th scope=col>upr</th></tr></thead>\n",
       "<tbody>\n",
       "\t<tr><th scope=row>94%</th><td>2.411176</td><td>1.601070</td><td>3.221282</td></tr>\n",
       "\t<tr><th scope=row>95%</th><td>2.419769</td><td>1.609142</td><td>3.230397</td></tr>\n",
       "\t<tr><th scope=row>96%</th><td>2.555544</td><td>1.736075</td><td>3.375013</td></tr>\n",
       "\t<tr><th scope=row>97%</th><td>2.691319</td><td>1.861912</td><td>3.520725</td></tr>\n",
       "\t<tr><th scope=row>98%</th><td>2.827093</td><td>1.986691</td><td>3.667495</td></tr>\n",
       "\t<tr><th scope=row>99%</th><td>2.962868</td><td>2.110454</td><td>3.815281</td></tr>\n",
       "</tbody>\n",
       "</table>\n"
      ],
      "text/latex": [
       "\\begin{tabular}{r|lll}\n",
       "  & fit & lwr & upr\\\\\n",
       "\\hline\n",
       "\t94\\% & 2.411176 & 1.601070 & 3.221282\\\\\n",
       "\t95\\% & 2.419769 & 1.609142 & 3.230397\\\\\n",
       "\t96\\% & 2.555544 & 1.736075 & 3.375013\\\\\n",
       "\t97\\% & 2.691319 & 1.861912 & 3.520725\\\\\n",
       "\t98\\% & 2.827093 & 1.986691 & 3.667495\\\\\n",
       "\t99\\% & 2.962868 & 2.110454 & 3.815281\\\\\n",
       "\\end{tabular}\n"
      ],
      "text/markdown": [
       "\n",
       "| <!--/--> | fit | lwr | upr |\n",
       "|---|---|---|---|\n",
       "| 94% | 2.411176 | 1.601070 | 3.221282 |\n",
       "| 95% | 2.419769 | 1.609142 | 3.230397 |\n",
       "| 96% | 2.555544 | 1.736075 | 3.375013 |\n",
       "| 97% | 2.691319 | 1.861912 | 3.520725 |\n",
       "| 98% | 2.827093 | 1.986691 | 3.667495 |\n",
       "| 99% | 2.962868 | 2.110454 | 3.815281 |\n",
       "\n"
      ],
      "text/plain": [
       "    fit      lwr      upr     \n",
       "94% 2.411176 1.601070 3.221282\n",
       "95% 2.419769 1.609142 3.230397\n",
       "96% 2.555544 1.736075 3.375013\n",
       "97% 2.691319 1.861912 3.520725\n",
       "98% 2.827093 1.986691 3.667495\n",
       "99% 2.962868 2.110454 3.815281"
      ]
     },
     "metadata": {},
     "output_type": "display_data"
    },
    {
     "data": {
      "text/html": [
       "<table>\n",
       "<thead><tr><th></th><th scope=col>fit</th><th scope=col>lwr</th><th scope=col>upr</th></tr></thead>\n",
       "<tbody>\n",
       "\t<tr><th scope=row>94%</th><td>2.411176</td><td>2.141713</td><td>2.680639</td></tr>\n",
       "\t<tr><th scope=row>95%</th><td>2.419769</td><td>2.148742</td><td>2.690797</td></tr>\n",
       "\t<tr><th scope=row>96%</th><td>2.555544</td><td>2.259118</td><td>2.851970</td></tr>\n",
       "\t<tr><th scope=row>97%</th><td>2.691319</td><td>2.368434</td><td>3.014203</td></tr>\n",
       "\t<tr><th scope=row>98%</th><td>2.827093</td><td>2.476930</td><td>3.177257</td></tr>\n",
       "\t<tr><th scope=row>99%</th><td>2.962868</td><td>2.584783</td><td>3.340952</td></tr>\n",
       "</tbody>\n",
       "</table>\n"
      ],
      "text/latex": [
       "\\begin{tabular}{r|lll}\n",
       "  & fit & lwr & upr\\\\\n",
       "\\hline\n",
       "\t94\\% & 2.411176 & 2.141713 & 2.680639\\\\\n",
       "\t95\\% & 2.419769 & 2.148742 & 2.690797\\\\\n",
       "\t96\\% & 2.555544 & 2.259118 & 2.851970\\\\\n",
       "\t97\\% & 2.691319 & 2.368434 & 3.014203\\\\\n",
       "\t98\\% & 2.827093 & 2.476930 & 3.177257\\\\\n",
       "\t99\\% & 2.962868 & 2.584783 & 3.340952\\\\\n",
       "\\end{tabular}\n"
      ],
      "text/markdown": [
       "\n",
       "| <!--/--> | fit | lwr | upr |\n",
       "|---|---|---|---|\n",
       "| 94% | 2.411176 | 2.141713 | 2.680639 |\n",
       "| 95% | 2.419769 | 2.148742 | 2.690797 |\n",
       "| 96% | 2.555544 | 2.259118 | 2.851970 |\n",
       "| 97% | 2.691319 | 2.368434 | 3.014203 |\n",
       "| 98% | 2.827093 | 2.476930 | 3.177257 |\n",
       "| 99% | 2.962868 | 2.584783 | 3.340952 |\n",
       "\n"
      ],
      "text/plain": [
       "    fit      lwr      upr     \n",
       "94% 2.411176 2.141713 2.680639\n",
       "95% 2.419769 2.148742 2.690797\n",
       "96% 2.555544 2.259118 2.851970\n",
       "97% 2.691319 2.368434 3.014203\n",
       "98% 2.827093 2.476930 3.177257\n",
       "99% 2.962868 2.584783 3.340952"
      ]
     },
     "metadata": {},
     "output_type": "display_data"
    }
   ],
   "source": [
    "tail(pred_p)\n",
    "tail(pred_c)"
   ]
  },
  {
   "cell_type": "markdown",
   "metadata": {
    "collapsed": true
   },
   "source": [
    "As we can see the interval of the mean of the response variable is much narrower than that of the observed response variable. \n",
    "### 3.4. Plot data points, the regression line, the predictions and its intervals (two types) and show that the interval is wider on both sides and narrow in the center.\n",
    "### *Answer:*\n",
    "I use the following code to plot the required stuff."
   ]
  },
  {
   "cell_type": "code",
   "execution_count": 7,
   "metadata": {},
   "outputs": [
    {
     "data": {
      "image/png": "[encoded data removed]",
      "text/plain": [
       "plot without title"
      ]
     },
     "metadata": {},
     "output_type": "display_data"
    }
   ],
   "source": [
    "plot(df$x,df$y,pch=20)\n",
    "abline(model1,col=\"blue\")\n",
    "points(percentiles,pred_c[,1],pch=1,col=\"red\")\n",
    "lines(percentiles,pred_c[,2],col=\"red\",lty=2)\n",
    "lines(percentiles,pred_c[,3],col=\"red\",lty=2)\n",
    "lines(percentiles,pred_p[,2],col=\"red\",lty=3)\n",
    "lines(percentiles,pred_p[,3],col=\"red\",lty=3)"
   ]
  },
  {
   "cell_type": "markdown",
   "metadata": {},
   "source": [
    "To show that the interval is wider on both sides and narrow in the center, I use following code to calculate the interval widths and then plot them."
   ]
  },
  {
   "cell_type": "code",
   "execution_count": 8,
   "metadata": {},
   "outputs": [
    {
     "data": {
      "image/png": "[encoded data removed]",
      "text/plain": [
       "plot without title"
      ]
     },
     "metadata": {},
     "output_type": "display_data"
    }
   ],
   "source": [
    "plot(pred_p[,3]-pred_p[,2], pch=20)"
   ]
  },
  {
   "cell_type": "code",
   "execution_count": 9,
   "metadata": {},
   "outputs": [
    {
     "data": {
      "image/png": "[encoded data removed]",
      "text/plain": [
       "plot without title"
      ]
     },
     "metadata": {},
     "output_type": "display_data"
    }
   ],
   "source": [
    "plot(pred_c[,3]-pred_c[,2], pch=20)"
   ]
  },
  {
   "cell_type": "markdown",
   "metadata": {
    "collapsed": true
   },
   "source": [
    "### 3.5.  Making prediction at what range of values of SO2 would be considered extrapolation?  Is it OK to do extrapolation in this case?\n",
    "### *Answer:*\n",
    "Making prediction beyond the range of the observed covariates would be considered extrapolation. It's not OK to do so because we do not know the relationship outside of the range of observed data.\n"
   ]
  },
  {
   "cell_type": "markdown",
   "metadata": {
    "collapsed": true
   },
   "source": [
    "### 4. Repeat the same questions (1-3) for the date set bus.csv. Description: Cross-sectional analysis of 24 British bus companies (1951). Use response variable = Expenses per car mile (pence), covariate = Car miles per year (1000s).\n",
    "### *Answer:*\n",
    "#### (1) I use the following code to load bus.csv. I also use x and y to indicate covariate and reesponse variable."
   ]
  },
  {
   "cell_type": "code",
   "execution_count": 10,
   "metadata": {},
   "outputs": [
    {
     "data": {
      "text/html": [
       "<table>\n",
       "<thead><tr><th scope=col>y</th><th scope=col>x</th><th scope=col>Percent of Double Deckers in fleet</th><th scope=col>Percent of fleet on fuel oil</th><th scope=col>Receipts per car mile (pence)</th></tr></thead>\n",
       "<tbody>\n",
       "\t<tr><td>19.76 </td><td> 6235 </td><td>100.00</td><td>100.00</td><td>25.10 </td></tr>\n",
       "\t<tr><td>17.85 </td><td>46230 </td><td> 43.67</td><td> 84.53</td><td>19.23 </td></tr>\n",
       "\t<tr><td>19.96 </td><td> 7360 </td><td> 65.51</td><td> 81.57</td><td>21.42 </td></tr>\n",
       "\t<tr><td>16.80 </td><td>28715 </td><td> 45.16</td><td> 93.33</td><td>18.11 </td></tr>\n",
       "\t<tr><td>18.20 </td><td>21934 </td><td> 49.20</td><td> 83.07</td><td>19.24 </td></tr>\n",
       "\t<tr><td>16.71 </td><td> 1337 </td><td> 74.84</td><td> 94.99</td><td>19.31 </td></tr>\n",
       "</tbody>\n",
       "</table>\n"
      ],
      "text/latex": [
       "\\begin{tabular}{r|lllll}\n",
       " y & x & Percent of Double Deckers in fleet & Percent of fleet on fuel oil & Receipts per car mile (pence)\\\\\n",
       "\\hline\n",
       "\t 19.76  &  6235  & 100.00 & 100.00 & 25.10 \\\\\n",
       "\t 17.85  & 46230  &  43.67 &  84.53 & 19.23 \\\\\n",
       "\t 19.96  &  7360  &  65.51 &  81.57 & 21.42 \\\\\n",
       "\t 16.80  & 28715  &  45.16 &  93.33 & 18.11 \\\\\n",
       "\t 18.20  & 21934  &  49.20 &  83.07 & 19.24 \\\\\n",
       "\t 16.71  &  1337  &  74.84 &  94.99 & 19.31 \\\\\n",
       "\\end{tabular}\n"
      ],
      "text/markdown": [
       "\n",
       "| y | x | Percent of Double Deckers in fleet | Percent of fleet on fuel oil | Receipts per car mile (pence) |\n",
       "|---|---|---|---|---|\n",
       "| 19.76  |  6235  | 100.00 | 100.00 | 25.10  |\n",
       "| 17.85  | 46230  |  43.67 |  84.53 | 19.23  |\n",
       "| 19.96  |  7360  |  65.51 |  81.57 | 21.42  |\n",
       "| 16.80  | 28715  |  45.16 |  93.33 | 18.11  |\n",
       "| 18.20  | 21934  |  49.20 |  83.07 | 19.24  |\n",
       "| 16.71  |  1337  |  74.84 |  94.99 | 19.31  |\n",
       "\n"
      ],
      "text/plain": [
       "  y     x     Percent of Double Deckers in fleet Percent of fleet on fuel oil\n",
       "1 19.76  6235 100.00                             100.00                      \n",
       "2 17.85 46230  43.67                              84.53                      \n",
       "3 19.96  7360  65.51                              81.57                      \n",
       "4 16.80 28715  45.16                              93.33                      \n",
       "5 18.20 21934  49.20                              83.07                      \n",
       "6 16.71  1337  74.84                              94.99                      \n",
       "  Receipts per car mile (pence)\n",
       "1 25.10                        \n",
       "2 19.23                        \n",
       "3 21.42                        \n",
       "4 18.11                        \n",
       "5 19.24                        \n",
       "6 19.31                        "
      ]
     },
     "metadata": {},
     "output_type": "display_data"
    }
   ],
   "source": [
    "bus = read.csv('bus.csv')\n",
    "names(bus) = c('y', 'x', 'Percent of Double Deckers in fleet', 'Percent of fleet on fuel oil', 'Receipts per car mile (pence)')\n",
    "head(bus)"
   ]
  },
  {
   "cell_type": "markdown",
   "metadata": {},
   "source": [
    "#### (2) Obtain R^2. This means the  R^2  for the fitted linear regression to the rocket propellant data set is 0.1583, which means 15.83% of the variation in y can be explained by the variation in x."
   ]
  },
  {
   "cell_type": "code",
   "execution_count": 11,
   "metadata": {},
   "outputs": [
    {
     "data": {
      "text/html": [
       "0.158264070633718"
      ],
      "text/latex": [
       "0.158264070633718"
      ],
      "text/markdown": [
       "0.158264070633718"
      ],
      "text/plain": [
       "[1] 0.1582641"
      ]
     },
     "metadata": {},
     "output_type": "display_data"
    }
   ],
   "source": [
    "model2 = lm(y~x, data=bus)\n",
    "summary(model2)$r.square"
   ]
  },
  {
   "cell_type": "markdown",
   "metadata": {},
   "source": [
    "#### (3.1) I use the following code to perform hypothesis tests for each coefficient, obtain p values. \n",
    "#### a. For hypothesis testing for slope, the null hypothesis is H0:β1=0 which means the covariate should not influence the response variable. As we can see the p-value for the slope is 0.0542 which is larger than 5%, we say the p-value isn't significant. Therefore, we conclude we have a zero slope and there is no significant linear relationship between y and x.\n",
    "#### b. For hypothesis testing for intercept, the null hypothesis is H0:β0=0. As we can see the p-value for the intercept is \\<2e-16 which is smaller than 5%. Therefore, we conclude we have a significant nonzero intercept."
   ]
  },
  {
   "cell_type": "code",
   "execution_count": 12,
   "metadata": {},
   "outputs": [
    {
     "data": {
      "text/plain": [
       "\n",
       "Call:\n",
       "lm(formula = y ~ x, data = bus)\n",
       "\n",
       "Residuals:\n",
       "    Min      1Q  Median      3Q     Max \n",
       "-2.0123 -0.9417 -0.1894  0.8993  2.6176 \n",
       "\n",
       "Coefficients:\n",
       "              Estimate Std. Error t value Pr(>|t|)    \n",
       "(Intercept)  1.878e+01  4.075e-01  46.085   <2e-16 ***\n",
       "x           -4.450e-05  2.188e-05  -2.034   0.0542 .  \n",
       "---\n",
       "Signif. codes:  0 '***' 0.001 '**' 0.01 '*' 0.05 '.' 0.1 ' ' 1\n",
       "\n",
       "Residual standard error: 1.347 on 22 degrees of freedom\n",
       "Multiple R-squared:  0.1583,\tAdjusted R-squared:   0.12 \n",
       "F-statistic: 4.136 on 1 and 22 DF,  p-value: 0.0542\n"
      ]
     },
     "metadata": {},
     "output_type": "display_data"
    }
   ],
   "source": [
    "summary(model2)"
   ]
  },
  {
   "cell_type": "markdown",
   "metadata": {},
   "source": [
    "#### (3.2) I use the following code to compute interval estimation with confidence of 95% for coefficients. As we can see given the confidence of 95%, the interval estimation for intercept is between 17.9 and 19.6 and the interval estimation for slope is between -9e-5 and 9e-7 which is very close to zero slope."
   ]
  },
  {
   "cell_type": "code",
   "execution_count": 13,
   "metadata": {},
   "outputs": [
    {
     "data": {
      "text/html": [
       "<table>\n",
       "<thead><tr><th></th><th scope=col>2.5 %</th><th scope=col>97.5 %</th></tr></thead>\n",
       "<tbody>\n",
       "\t<tr><th scope=row>(Intercept)</th><td> 1.793660e+01</td><td>1.962700e+01 </td></tr>\n",
       "\t<tr><th scope=row>x</th><td>-8.987441e-05</td><td>8.761294e-07 </td></tr>\n",
       "</tbody>\n",
       "</table>\n"
      ],
      "text/latex": [
       "\\begin{tabular}{r|ll}\n",
       "  & 2.5 \\% & 97.5 \\%\\\\\n",
       "\\hline\n",
       "\t(Intercept) &  1.793660e+01 & 1.962700e+01 \\\\\n",
       "\tx & -8.987441e-05 & 8.761294e-07 \\\\\n",
       "\\end{tabular}\n"
      ],
      "text/markdown": [
       "\n",
       "| <!--/--> | 2.5 % | 97.5 % |\n",
       "|---|---|---|\n",
       "| (Intercept) |  1.793660e+01 | 1.962700e+01  |\n",
       "| x | -8.987441e-05 | 8.761294e-07  |\n",
       "\n"
      ],
      "text/plain": [
       "            2.5 %         97.5 %      \n",
       "(Intercept)  1.793660e+01 1.962700e+01\n",
       "x           -8.987441e-05 8.761294e-07"
      ]
     },
     "metadata": {},
     "output_type": "display_data"
    }
   ],
   "source": [
    "confint(model2,level=0.95)"
   ]
  },
  {
   "cell_type": "markdown",
   "metadata": {},
   "source": [
    "#### (3.3) I use the following code to make prediction of the response variable at the 1st, 2nd, 3rd, …., 99th percentiles of the covariate, and obtain their prediction intervals with the confidence of 95%(two types of the intervals)."
   ]
  },
  {
   "cell_type": "code",
   "execution_count": 14,
   "metadata": {},
   "outputs": [
    {
     "data": {
      "text/html": [
       "<table>\n",
       "<thead><tr><th></th><th scope=col>fit</th><th scope=col>lwr</th><th scope=col>upr</th></tr></thead>\n",
       "<tbody>\n",
       "\t<tr><th scope=row>1%</th><td>18.73484</td><td>15.82603</td><td>21.64364</td></tr>\n",
       "\t<tr><th scope=row>2%</th><td>18.73362</td><td>15.82506</td><td>21.64218</td></tr>\n",
       "\t<tr><th scope=row>3%</th><td>18.73240</td><td>15.82409</td><td>21.64072</td></tr>\n",
       "\t<tr><th scope=row>4%</th><td>18.73119</td><td>15.82312</td><td>21.63925</td></tr>\n",
       "\t<tr><th scope=row>5%</th><td>18.72949</td><td>15.82176</td><td>21.63722</td></tr>\n",
       "\t<tr><th scope=row>6%</th><td>18.72755</td><td>15.82021</td><td>21.63489</td></tr>\n",
       "</tbody>\n",
       "</table>\n"
      ],
      "text/latex": [
       "\\begin{tabular}{r|lll}\n",
       "  & fit & lwr & upr\\\\\n",
       "\\hline\n",
       "\t1\\% & 18.73484 & 15.82603 & 21.64364\\\\\n",
       "\t2\\% & 18.73362 & 15.82506 & 21.64218\\\\\n",
       "\t3\\% & 18.73240 & 15.82409 & 21.64072\\\\\n",
       "\t4\\% & 18.73119 & 15.82312 & 21.63925\\\\\n",
       "\t5\\% & 18.72949 & 15.82176 & 21.63722\\\\\n",
       "\t6\\% & 18.72755 & 15.82021 & 21.63489\\\\\n",
       "\\end{tabular}\n"
      ],
      "text/markdown": [
       "\n",
       "| <!--/--> | fit | lwr | upr |\n",
       "|---|---|---|---|\n",
       "| 1% | 18.73484 | 15.82603 | 21.64364 |\n",
       "| 2% | 18.73362 | 15.82506 | 21.64218 |\n",
       "| 3% | 18.73240 | 15.82409 | 21.64072 |\n",
       "| 4% | 18.73119 | 15.82312 | 21.63925 |\n",
       "| 5% | 18.72949 | 15.82176 | 21.63722 |\n",
       "| 6% | 18.72755 | 15.82021 | 21.63489 |\n",
       "\n"
      ],
      "text/plain": [
       "   fit      lwr      upr     \n",
       "1% 18.73484 15.82603 21.64364\n",
       "2% 18.73362 15.82506 21.64218\n",
       "3% 18.73240 15.82409 21.64072\n",
       "4% 18.73119 15.82312 21.63925\n",
       "5% 18.72949 15.82176 21.63722\n",
       "6% 18.72755 15.82021 21.63489"
      ]
     },
     "metadata": {},
     "output_type": "display_data"
    },
    {
     "data": {
      "text/html": [
       "<table>\n",
       "<thead><tr><th></th><th scope=col>fit</th><th scope=col>lwr</th><th scope=col>upr</th></tr></thead>\n",
       "<tbody>\n",
       "\t<tr><th scope=row>1%</th><td>18.73484</td><td>17.92434</td><td>19.54534</td></tr>\n",
       "\t<tr><th scope=row>2%</th><td>18.73362</td><td>17.92401</td><td>19.54324</td></tr>\n",
       "\t<tr><th scope=row>3%</th><td>18.73240</td><td>17.92367</td><td>19.54114</td></tr>\n",
       "\t<tr><th scope=row>4%</th><td>18.73119</td><td>17.92333</td><td>19.53904</td></tr>\n",
       "\t<tr><th scope=row>5%</th><td>18.72949</td><td>17.92286</td><td>19.53613</td></tr>\n",
       "\t<tr><th scope=row>6%</th><td>18.72755</td><td>17.92232</td><td>19.53278</td></tr>\n",
       "</tbody>\n",
       "</table>\n"
      ],
      "text/latex": [
       "\\begin{tabular}{r|lll}\n",
       "  & fit & lwr & upr\\\\\n",
       "\\hline\n",
       "\t1\\% & 18.73484 & 17.92434 & 19.54534\\\\\n",
       "\t2\\% & 18.73362 & 17.92401 & 19.54324\\\\\n",
       "\t3\\% & 18.73240 & 17.92367 & 19.54114\\\\\n",
       "\t4\\% & 18.73119 & 17.92333 & 19.53904\\\\\n",
       "\t5\\% & 18.72949 & 17.92286 & 19.53613\\\\\n",
       "\t6\\% & 18.72755 & 17.92232 & 19.53278\\\\\n",
       "\\end{tabular}\n"
      ],
      "text/markdown": [
       "\n",
       "| <!--/--> | fit | lwr | upr |\n",
       "|---|---|---|---|\n",
       "| 1% | 18.73484 | 17.92434 | 19.54534 |\n",
       "| 2% | 18.73362 | 17.92401 | 19.54324 |\n",
       "| 3% | 18.73240 | 17.92367 | 19.54114 |\n",
       "| 4% | 18.73119 | 17.92333 | 19.53904 |\n",
       "| 5% | 18.72949 | 17.92286 | 19.53613 |\n",
       "| 6% | 18.72755 | 17.92232 | 19.53278 |\n",
       "\n"
      ],
      "text/plain": [
       "   fit      lwr      upr     \n",
       "1% 18.73484 17.92434 19.54534\n",
       "2% 18.73362 17.92401 19.54324\n",
       "3% 18.73240 17.92367 19.54114\n",
       "4% 18.73119 17.92333 19.53904\n",
       "5% 18.72949 17.92286 19.53613\n",
       "6% 18.72755 17.92232 19.53278"
      ]
     },
     "metadata": {},
     "output_type": "display_data"
    }
   ],
   "source": [
    "percentiles = quantile(bus$x, probs = seq(0.01, 0.99, by= 0.01))\n",
    "pred_p = predict(model2, newdata=data.frame(x=percentiles), interval=c(\"prediction\"), level=0.95, type=\"response\")\n",
    "pred_c = predict(model2, newdata=data.frame(x=percentiles), interval=c(\"confidence\"), level=0.95, type=\"response\")\n",
    "head(pred_p)\n",
    "head(pred_c)"
   ]
  },
  {
   "cell_type": "code",
   "execution_count": 15,
   "metadata": {},
   "outputs": [
    {
     "data": {
      "text/html": [
       "<table>\n",
       "<thead><tr><th></th><th scope=col>fit</th><th scope=col>lwr</th><th scope=col>upr</th></tr></thead>\n",
       "<tbody>\n",
       "\t<tr><th scope=row>94%</th><td>17.02078</td><td>13.93814</td><td>20.10341</td></tr>\n",
       "\t<tr><th scope=row>95%</th><td>16.84152</td><td>13.68486</td><td>19.99817</td></tr>\n",
       "\t<tr><th scope=row>96%</th><td>16.72183</td><td>13.51092</td><td>19.93275</td></tr>\n",
       "\t<tr><th scope=row>97%</th><td>16.71386</td><td>13.49920</td><td>19.92853</td></tr>\n",
       "\t<tr><th scope=row>98%</th><td>16.70589</td><td>13.48746</td><td>19.92432</td></tr>\n",
       "\t<tr><th scope=row>99%</th><td>16.69791</td><td>13.47571</td><td>19.92012</td></tr>\n",
       "</tbody>\n",
       "</table>\n"
      ],
      "text/latex": [
       "\\begin{tabular}{r|lll}\n",
       "  & fit & lwr & upr\\\\\n",
       "\\hline\n",
       "\t94\\% & 17.02078 & 13.93814 & 20.10341\\\\\n",
       "\t95\\% & 16.84152 & 13.68486 & 19.99817\\\\\n",
       "\t96\\% & 16.72183 & 13.51092 & 19.93275\\\\\n",
       "\t97\\% & 16.71386 & 13.49920 & 19.92853\\\\\n",
       "\t98\\% & 16.70589 & 13.48746 & 19.92432\\\\\n",
       "\t99\\% & 16.69791 & 13.47571 & 19.92012\\\\\n",
       "\\end{tabular}\n"
      ],
      "text/markdown": [
       "\n",
       "| <!--/--> | fit | lwr | upr |\n",
       "|---|---|---|---|\n",
       "| 94% | 17.02078 | 13.93814 | 20.10341 |\n",
       "| 95% | 16.84152 | 13.68486 | 19.99817 |\n",
       "| 96% | 16.72183 | 13.51092 | 19.93275 |\n",
       "| 97% | 16.71386 | 13.49920 | 19.92853 |\n",
       "| 98% | 16.70589 | 13.48746 | 19.92432 |\n",
       "| 99% | 16.69791 | 13.47571 | 19.92012 |\n",
       "\n"
      ],
      "text/plain": [
       "    fit      lwr      upr     \n",
       "94% 17.02078 13.93814 20.10341\n",
       "95% 16.84152 13.68486 19.99817\n",
       "96% 16.72183 13.51092 19.93275\n",
       "97% 16.71386 13.49920 19.92853\n",
       "98% 16.70589 13.48746 19.92432\n",
       "99% 16.69791 13.47571 19.92012"
      ]
     },
     "metadata": {},
     "output_type": "display_data"
    },
    {
     "data": {
      "text/html": [
       "<table>\n",
       "<thead><tr><th></th><th scope=col>fit</th><th scope=col>lwr</th><th scope=col>upr</th></tr></thead>\n",
       "<tbody>\n",
       "\t<tr><th scope=row>94%</th><td>17.02078</td><td>15.71755</td><td>18.32401</td></tr>\n",
       "\t<tr><th scope=row>95%</th><td>16.84152</td><td>15.37175</td><td>18.31129</td></tr>\n",
       "\t<tr><th scope=row>96%</th><td>16.72183</td><td>15.13888</td><td>18.30479</td></tr>\n",
       "\t<tr><th scope=row>97%</th><td>16.71386</td><td>15.12332</td><td>18.30441</td></tr>\n",
       "\t<tr><th scope=row>98%</th><td>16.70589</td><td>15.10775</td><td>18.30402</td></tr>\n",
       "\t<tr><th scope=row>99%</th><td>16.69791</td><td>15.09218</td><td>18.30365</td></tr>\n",
       "</tbody>\n",
       "</table>\n"
      ],
      "text/latex": [
       "\\begin{tabular}{r|lll}\n",
       "  & fit & lwr & upr\\\\\n",
       "\\hline\n",
       "\t94\\% & 17.02078 & 15.71755 & 18.32401\\\\\n",
       "\t95\\% & 16.84152 & 15.37175 & 18.31129\\\\\n",
       "\t96\\% & 16.72183 & 15.13888 & 18.30479\\\\\n",
       "\t97\\% & 16.71386 & 15.12332 & 18.30441\\\\\n",
       "\t98\\% & 16.70589 & 15.10775 & 18.30402\\\\\n",
       "\t99\\% & 16.69791 & 15.09218 & 18.30365\\\\\n",
       "\\end{tabular}\n"
      ],
      "text/markdown": [
       "\n",
       "| <!--/--> | fit | lwr | upr |\n",
       "|---|---|---|---|\n",
       "| 94% | 17.02078 | 15.71755 | 18.32401 |\n",
       "| 95% | 16.84152 | 15.37175 | 18.31129 |\n",
       "| 96% | 16.72183 | 15.13888 | 18.30479 |\n",
       "| 97% | 16.71386 | 15.12332 | 18.30441 |\n",
       "| 98% | 16.70589 | 15.10775 | 18.30402 |\n",
       "| 99% | 16.69791 | 15.09218 | 18.30365 |\n",
       "\n"
      ],
      "text/plain": [
       "    fit      lwr      upr     \n",
       "94% 17.02078 15.71755 18.32401\n",
       "95% 16.84152 15.37175 18.31129\n",
       "96% 16.72183 15.13888 18.30479\n",
       "97% 16.71386 15.12332 18.30441\n",
       "98% 16.70589 15.10775 18.30402\n",
       "99% 16.69791 15.09218 18.30365"
      ]
     },
     "metadata": {},
     "output_type": "display_data"
    }
   ],
   "source": [
    "tail(pred_p)\n",
    "tail(pred_c)"
   ]
  },
  {
   "cell_type": "markdown",
   "metadata": {},
   "source": [
    "#### (3.4) I use the following code to plot data points, the regression line, the predictions and its intervals (two types). Then I plot the interval widths of both types to show that the interval is wider on two sides and narrower in the middle."
   ]
  },
  {
   "cell_type": "code",
   "execution_count": 16,
   "metadata": {},
   "outputs": [
    {
     "data": {
      "image/png": "[encoded data removed]",
      "text/plain": [
       "plot without title"
      ]
     },
     "metadata": {},
     "output_type": "display_data"
    }
   ],
   "source": [
    "plot(bus$x,bus$y,pch=20)\n",
    "abline(model2,col=\"blue\")\n",
    "points(percentiles,pred_c[,1],pch=1,col=\"red\")\n",
    "lines(percentiles,pred_c[,2],col=\"red\",lty=2)\n",
    "lines(percentiles,pred_c[,3],col=\"red\",lty=2)\n",
    "lines(percentiles,pred_p[,2],col=\"red\",lty=3)\n",
    "lines(percentiles,pred_p[,3],col=\"red\",lty=3)"
   ]
  },
  {
   "cell_type": "code",
   "execution_count": 17,
   "metadata": {},
   "outputs": [
    {
     "data": {
      "image/png": "[encoded data removed]",
      "text/plain": [
       "plot without title"
      ]
     },
     "metadata": {},
     "output_type": "display_data"
    }
   ],
   "source": [
    "plot(pred_p[,3]-pred_p[,2], pch=20)"
   ]
  },
  {
   "cell_type": "code",
   "execution_count": 18,
   "metadata": {},
   "outputs": [
    {
     "data": {
      "image/png": "[encoded data removed]",
      "text/plain": [
       "plot without title"
      ]
     },
     "metadata": {},
     "output_type": "display_data"
    }
   ],
   "source": [
    "plot(pred_c[,3]-pred_c[,2], pch=20)"
   ]
  },
  {
   "cell_type": "markdown",
   "metadata": {},
   "source": [
    "#### (3.5) Making prediction beyond the range of the observed covariates would be considered extrapolation. It's not OK to do so because we do not know the relationship outside of the range of observed data."
   ]
  }
 ],
 "metadata": {
  "kernelspec": {
   "display_name": "R",
   "language": "R",
   "name": "ir"
  },
  "language_info": {
   "codemirror_mode": "r",
   "file_extension": ".r",
   "mimetype": "text/x-r-source",
   "name": "R",
   "pygments_lexer": "r",
   "version": "3.5.0"
  }
 },
 "nbformat": 4,
 "nbformat_minor": 2
}
