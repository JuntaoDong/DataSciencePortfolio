{
 "cells": [
  {
   "cell_type": "markdown",
   "metadata": {},
   "source": [
    "## BANA7038 Data Analysis Methods HW4\n",
    "## Last Name: Dong\n",
    "## First Name: Juntao\n",
    "## M Number: M10453134\n",
    "\n",
    "\n",
    "\n",
    "### 1. Read PGA data into R (PGA.csv).  Below is the description of variables.\n",
    "### Source: sportsillustrated.cnn.com\n",
    "### Description: Performance statistics and winnings for 196 PGA participants during, 2004 season.\n",
    "### Variable: Name, Age, Average Drive (Yards), Driving accuracy (percent), Greens on regulation (%), Average # of putts, Save Percent, Money Rank, # Events, Total Winnings (\\$), Average winnings ($).\n",
    "\n",
    "### *Answer:*\n",
    "I use the following code to read PGA data into R.\n"
   ]
  },
  {
   "cell_type": "code",
   "execution_count": 1,
   "metadata": {},
   "outputs": [
    {
     "data": {
      "text/html": [
       "<table>\n",
       "<thead><tr><th scope=col>Name</th><th scope=col>Age</th><th scope=col>AverageDrive</th><th scope=col>DrivingAccuracy</th><th scope=col>GreensonRegulation</th><th scope=col>AverageNumofPutts</th><th scope=col>SavePercent</th><th scope=col>MoneyRank</th><th scope=col>NumEvents</th><th scope=col>TotalWinnings</th><th scope=col>AverageWinnings</th></tr></thead>\n",
       "<tbody>\n",
       "\t<tr><td>Aaron Baddeley  </td><td>23              </td><td>288.0           </td><td>53.1            </td><td>58.2            </td><td>1.767           </td><td>50.9            </td><td>123             </td><td>27              </td><td> 632878         </td><td> 23440          </td></tr>\n",
       "\t<tr><td>Adam Scott      </td><td>24              </td><td>295.4           </td><td>57.7            </td><td>65.6            </td><td>1.757           </td><td>59.3            </td><td>  7             </td><td>16              </td><td>3724984         </td><td>232812          </td></tr>\n",
       "\t<tr><td>Alex Cejka      </td><td>34              </td><td>285.8           </td><td>64.2            </td><td>63.8            </td><td>1.795           </td><td>50.7            </td><td> 54             </td><td>24              </td><td>1313484         </td><td> 54729          </td></tr>\n",
       "\t<tr><td>Andre Stolz     </td><td>34              </td><td>297.9           </td><td>59.0            </td><td>63.0            </td><td>1.787           </td><td>47.7            </td><td>101             </td><td>20              </td><td> 808373         </td><td> 40419          </td></tr>\n",
       "\t<tr><td>Arjun Atwal     </td><td>31              </td><td>289.4           </td><td>60.5            </td><td>62.5            </td><td>1.766           </td><td>43.5            </td><td>146             </td><td>30              </td><td> 486053         </td><td> 16202          </td></tr>\n",
       "\t<tr><td>Arron Oberholser</td><td>29              </td><td>284.6           </td><td>68.8            </td><td>67.0            </td><td>1.780           </td><td>50.9            </td><td> 52             </td><td>23              </td><td>1355433         </td><td> 58932          </td></tr>\n",
       "</tbody>\n",
       "</table>\n"
      ],
      "text/latex": [
       "\\begin{tabular}{r|lllllllllll}\n",
       " Name & Age & AverageDrive & DrivingAccuracy & GreensonRegulation & AverageNumofPutts & SavePercent & MoneyRank & NumEvents & TotalWinnings & AverageWinnings\\\\\n",
       "\\hline\n",
       "\t Aaron Baddeley   & 23               & 288.0            & 53.1             & 58.2             & 1.767            & 50.9             & 123              & 27               &  632878          &  23440          \\\\\n",
       "\t Adam Scott       & 24               & 295.4            & 57.7             & 65.6             & 1.757            & 59.3             &   7              & 16               & 3724984          & 232812          \\\\\n",
       "\t Alex Cejka       & 34               & 285.8            & 64.2             & 63.8             & 1.795            & 50.7             &  54              & 24               & 1313484          &  54729          \\\\\n",
       "\t Andre Stolz      & 34               & 297.9            & 59.0             & 63.0             & 1.787            & 47.7             & 101              & 20               &  808373          &  40419          \\\\\n",
       "\t Arjun Atwal      & 31               & 289.4            & 60.5             & 62.5             & 1.766            & 43.5             & 146              & 30               &  486053          &  16202          \\\\\n",
       "\t Arron Oberholser & 29               & 284.6            & 68.8             & 67.0             & 1.780            & 50.9             &  52              & 23               & 1355433          &  58932          \\\\\n",
       "\\end{tabular}\n"
      ],
      "text/markdown": [
       "\n",
       "| Name | Age | AverageDrive | DrivingAccuracy | GreensonRegulation | AverageNumofPutts | SavePercent | MoneyRank | NumEvents | TotalWinnings | AverageWinnings |\n",
       "|---|---|---|---|---|---|---|---|---|---|---|\n",
       "| Aaron Baddeley   | 23               | 288.0            | 53.1             | 58.2             | 1.767            | 50.9             | 123              | 27               |  632878          |  23440           |\n",
       "| Adam Scott       | 24               | 295.4            | 57.7             | 65.6             | 1.757            | 59.3             |   7              | 16               | 3724984          | 232812           |\n",
       "| Alex Cejka       | 34               | 285.8            | 64.2             | 63.8             | 1.795            | 50.7             |  54              | 24               | 1313484          |  54729           |\n",
       "| Andre Stolz      | 34               | 297.9            | 59.0             | 63.0             | 1.787            | 47.7             | 101              | 20               |  808373          |  40419           |\n",
       "| Arjun Atwal      | 31               | 289.4            | 60.5             | 62.5             | 1.766            | 43.5             | 146              | 30               |  486053          |  16202           |\n",
       "| Arron Oberholser | 29               | 284.6            | 68.8             | 67.0             | 1.780            | 50.9             |  52              | 23               | 1355433          |  58932           |\n",
       "\n"
      ],
      "text/plain": [
       "  Name             Age AverageDrive DrivingAccuracy GreensonRegulation\n",
       "1 Aaron Baddeley   23  288.0        53.1            58.2              \n",
       "2 Adam Scott       24  295.4        57.7            65.6              \n",
       "3 Alex Cejka       34  285.8        64.2            63.8              \n",
       "4 Andre Stolz      34  297.9        59.0            63.0              \n",
       "5 Arjun Atwal      31  289.4        60.5            62.5              \n",
       "6 Arron Oberholser 29  284.6        68.8            67.0              \n",
       "  AverageNumofPutts SavePercent MoneyRank NumEvents TotalWinnings\n",
       "1 1.767             50.9        123       27         632878      \n",
       "2 1.757             59.3          7       16        3724984      \n",
       "3 1.795             50.7         54       24        1313484      \n",
       "4 1.787             47.7        101       20         808373      \n",
       "5 1.766             43.5        146       30         486053      \n",
       "6 1.780             50.9         52       23        1355433      \n",
       "  AverageWinnings\n",
       "1  23440         \n",
       "2 232812         \n",
       "3  54729         \n",
       "4  40419         \n",
       "5  16202         \n",
       "6  58932         "
      ]
     },
     "metadata": {},
     "output_type": "display_data"
    }
   ],
   "source": [
    "df = read.csv('PGA.csv')\n",
    "head(df)"
   ]
  },
  {
   "cell_type": "markdown",
   "metadata": {},
   "source": [
    "### 2. Visualize the data using scatter plot and histogram.\n",
    "### *Answer:*\n",
    "I use following code to visualize the data."
   ]
  },
  {
   "cell_type": "code",
   "execution_count": 2,
   "metadata": {},
   "outputs": [
    {
     "data": {
      "image/png": "[encoded data removed]",
      "text/plain": [
       "plot without title"
      ]
     },
     "metadata": {},
     "output_type": "display_data"
    }
   ],
   "source": [
    "pairs(df,pch=20)"
   ]
  },
  {
   "cell_type": "markdown",
   "metadata": {},
   "source": [
    "### 3. Build a linear regression using Average winnings as response variable and using Age, Average Drive (Yards), Driving accuracy (percent), Greens on regulation (%), Average # of putts, Save Percent, and # Events as covariates.\n",
    "### *Answer:*\n",
    "I use the following code to build the linear regression.\n"
   ]
  },
  {
   "cell_type": "code",
   "execution_count": 3,
   "metadata": {},
   "outputs": [
    {
     "data": {
      "text/plain": [
       "\n",
       "Call:\n",
       "lm(formula = AverageWinnings ~ Age + AverageDrive + DrivingAccuracy + \n",
       "    GreensonRegulation + AverageNumofPutts + SavePercent + NumEvents, \n",
       "    data = df)\n",
       "\n",
       "Residuals:\n",
       "   Min     1Q Median     3Q    Max \n",
       "-71690 -22176  -6735  17147 247928 \n",
       "\n",
       "Coefficients:\n",
       "                     Estimate Std. Error t value Pr(>|t|)    \n",
       "(Intercept)         945579.88  305886.59   3.091  0.00230 ** \n",
       "Age                   -587.13     519.32  -1.131  0.25968    \n",
       "AverageDrive           -94.76     567.42  -0.167  0.86755    \n",
       "DrivingAccuracy      -2360.57     854.02  -2.764  0.00628 ** \n",
       "GreensonRegulation    8466.04    1303.87   6.493 7.30e-10 ***\n",
       "AverageNumofPutts  -694226.49  138155.99  -5.025 1.17e-06 ***\n",
       "SavePercent           1395.67     587.54   2.375  0.01853 *  \n",
       "NumEvents            -3159.22     644.24  -4.904 2.03e-06 ***\n",
       "---\n",
       "Signif. codes:  0 '***' 0.001 '**' 0.01 '*' 0.05 '.' 0.1 ' ' 1\n",
       "\n",
       "Residual standard error: 41430 on 188 degrees of freedom\n",
       "Multiple R-squared:  0.4527,\tAdjusted R-squared:  0.4323 \n",
       "F-statistic: 22.21 on 7 and 188 DF,  p-value: < 2.2e-16\n"
      ]
     },
     "metadata": {},
     "output_type": "display_data"
    }
   ],
   "source": [
    "model1 <- lm(AverageWinnings ~ Age + AverageDrive + DrivingAccuracy + GreensonRegulation + AverageNumofPutts + SavePercent + NumEvents, data=df)\n",
    "summary(model1)"
   ]
  },
  {
   "cell_type": "markdown",
   "metadata": {},
   "source": [
    "### 4. Perform t tests for these coefficient estimates.  Obtain t statistics and p values, interpret the results, make a conclusion (i.e. reject or not reject) and explain why.  Note: please explain what the null hypothesis is.\n",
    "### *Answer:*\n",
    "+ **Intercept**: The null hypothesis for the intercept is $H_{0}: β_{0} = 0$ which hypothesizes the intercept is 0. Given the p value of the estimate of intercept is 0.0023 which is smaller than 0.05, therefore, we reject the null hypothesis. \n",
    "+ **Age**: The null hypothesis for the intercept is $H_{0}: β_{1} = 0$ which hypothesizes the covariate Age has a zero slope. Given the p value of the estimate of Age covariate is 0.2597 which is larger than 0.05, so we don't reject the null hypothesis which implies Age has a zero slope.\n",
    "+ **AverageDrive**: The null hypothesis for the intercept is $H_{0}: β_{2} = 0$ which hypothesizes the covariate AverageDrive has a zero slope. Given the p value of the estimate of AverageDrive covariate is 0.8676 which is larger than 0.05, so we don't reject the null hypothesis which implies AverageDrive has a zero slope.\n",
    "+ **DrivingAccuracy**: The null hypothesis for the intercept is $H_{0}: β_{3} = 0$ which hypothesizes the covariate DrivingAccuracy has a zero slope. Given the p value of the estimate of DrivingAccuracy covariate is 0.0063 which is smaller than 0.05, so we reject the null hypothesis which implies DrivingAccuracy has a nonzero slope.\n",
    "+ **GreensonRegulation**: The null hypothesis for the intercept is $H_{0}: β_{4} = 0$ which hypothesizes the covariate GreensonRegulation has a zero slope. Given the p value of the estimate of GreensonRegulation covariate is $7×10^{-10}$ which is smaller than 0.05, so we reject the null hypothesis which implies GreensonRegulation has a nonzero slope.\n",
    "+ **AverageNumofPutts**: The null hypothesis for the intercept is $H_{0}: β_{5} = 0$ which hypothesizes the covariate AverageNumofPutts has a zero slope. Given the p value of the estimate of AverageNumofPutts covariate is $1×10^{-6}$ which is smaller than 0.05, so we reject the null hypothesis which implies AverageNumofPutts has a nonzero slope.\n",
    "+ **SavePercent**: The null hypothesis for the intercept is $H_{0}: β_{6} = 0$ which hypothesizes the covariate SavePercent has a zero slope. Given the p value of the estimate of SavePercent covariate is 0.0185 which is smaller than 0.05, so we reject the null hypothesis which implies SavePercent has a nonzero slope.\n",
    "+ **NumEvents**: The null hypothesis for the intercept is $H_{0}: β_{7} = 0$ which hypothesizes the covariate NumEvents has a zero slope. Given the p value of the estimate of NumEvents covariate is $2×10^{-6}$ which is smaller than 0.05, so we reject the null hypothesis which implies NumEvents has a nonzero slope."
   ]
  },
  {
   "cell_type": "markdown",
   "metadata": {},
   "source": [
    "### 5. Use F test to test the significance of the regression.  Obtain the F statistic and p value, interpret the results and make a conclusion.\n",
    "### *Answer:*\n",
    "The test for significance of regression is also called F-Test or ANOVA test (analysis of variance test). It's a test to determine if there is a linear relationship between the response and any of the regressor variables. Therefore, we are testing the following.\n",
    "\n",
    "The hypotheses are:\n",
    "\n",
    "$H_{0}:β_{1}=β_{2}=...=β_{k}=0$\n",
    "\n",
    "$H_{1}:β_{j}≠0 $ for at least one j\n",
    "\n",
    "Given that the p-value of F-test is < 2.2e-16, which is smaller than 0.05. So we reject the null hypothesis and conclude there is at least one significant covariate."
   ]
  },
  {
   "cell_type": "markdown",
   "metadata": {},
   "source": [
    "### 6. Obtain the interval estimation for all the intercept and slope coefficients.\n",
    "### *Answer:*\n",
    "I use the following code to get the interval estimation for all the intercept and slope coefficients.\n"
   ]
  },
  {
   "cell_type": "code",
   "execution_count": 4,
   "metadata": {},
   "outputs": [
    {
     "data": {
      "text/html": [
       "<table>\n",
       "<thead><tr><th></th><th scope=col>2.5 %</th><th scope=col>97.5 %</th></tr></thead>\n",
       "<tbody>\n",
       "\t<tr><th scope=row>(Intercept)</th><td> 342168.8016</td><td>1548990.9491</td></tr>\n",
       "\t<tr><th scope=row>Age</th><td>  -1611.5765</td><td>    437.3259</td></tr>\n",
       "\t<tr><th scope=row>AverageDrive</th><td>  -1214.0883</td><td>   1024.5657</td></tr>\n",
       "\t<tr><th scope=row>DrivingAccuracy</th><td>  -4045.2641</td><td>   -675.8748</td></tr>\n",
       "\t<tr><th scope=row>GreensonRegulation</th><td>   5893.9435</td><td>  11038.1279</td></tr>\n",
       "\t<tr><th scope=row>AverageNumofPutts</th><td>-966761.6620</td><td>-421691.3083</td></tr>\n",
       "\t<tr><th scope=row>SavePercent</th><td>    236.6508</td><td>   2554.6825</td></tr>\n",
       "\t<tr><th scope=row>NumEvents</th><td>  -4430.0971</td><td>  -1888.3510</td></tr>\n",
       "</tbody>\n",
       "</table>\n"
      ],
      "text/latex": [
       "\\begin{tabular}{r|ll}\n",
       "  & 2.5 \\% & 97.5 \\%\\\\\n",
       "\\hline\n",
       "\t(Intercept) &  342168.8016 & 1548990.9491\\\\\n",
       "\tAge &   -1611.5765 &     437.3259\\\\\n",
       "\tAverageDrive &   -1214.0883 &    1024.5657\\\\\n",
       "\tDrivingAccuracy &   -4045.2641 &    -675.8748\\\\\n",
       "\tGreensonRegulation &    5893.9435 &   11038.1279\\\\\n",
       "\tAverageNumofPutts & -966761.6620 & -421691.3083\\\\\n",
       "\tSavePercent &     236.6508 &    2554.6825\\\\\n",
       "\tNumEvents &   -4430.0971 &   -1888.3510\\\\\n",
       "\\end{tabular}\n"
      ],
      "text/markdown": [
       "\n",
       "| <!--/--> | 2.5 % | 97.5 % |\n",
       "|---|---|---|\n",
       "| (Intercept) |  342168.8016 | 1548990.9491 |\n",
       "| Age |   -1611.5765 |     437.3259 |\n",
       "| AverageDrive |   -1214.0883 |    1024.5657 |\n",
       "| DrivingAccuracy |   -4045.2641 |    -675.8748 |\n",
       "| GreensonRegulation |    5893.9435 |   11038.1279 |\n",
       "| AverageNumofPutts | -966761.6620 | -421691.3083 |\n",
       "| SavePercent |     236.6508 |    2554.6825 |\n",
       "| NumEvents |   -4430.0971 |   -1888.3510 |\n",
       "\n"
      ],
      "text/plain": [
       "                   2.5 %        97.5 %      \n",
       "(Intercept)         342168.8016 1548990.9491\n",
       "Age                  -1611.5765     437.3259\n",
       "AverageDrive         -1214.0883    1024.5657\n",
       "DrivingAccuracy      -4045.2641    -675.8748\n",
       "GreensonRegulation    5893.9435   11038.1279\n",
       "AverageNumofPutts  -966761.6620 -421691.3083\n",
       "SavePercent            236.6508    2554.6825\n",
       "NumEvents            -4430.0971   -1888.3510"
      ]
     },
     "metadata": {},
     "output_type": "display_data"
    }
   ],
   "source": [
    "confint(model1)"
   ]
  },
  {
   "cell_type": "markdown",
   "metadata": {},
   "source": [
    "### 7. Using the regression in question 3, make a prediction for the case of:\n",
    "### Age = 35, AverageDrive = 287, DrivingAccuracy = 64, GreensonRegulation = 64.9, AverageNumofPutts = 1.778, SavePercent = 48, NumEvents = 26\n",
    "### The prediction should include fitted value and interval estimation.\n",
    "### *Answer:*\n",
    "I use the following code to make the prediction."
   ]
  },
  {
   "cell_type": "code",
   "execution_count": 5,
   "metadata": {},
   "outputs": [
    {
     "data": {
      "text/html": [
       "<table>\n",
       "<thead><tr><th scope=col>fit</th><th scope=col>lwr</th><th scope=col>upr</th></tr></thead>\n",
       "<tbody>\n",
       "\t<tr><td>46720.76 </td><td>-35236.56</td><td>128678.1 </td></tr>\n",
       "</tbody>\n",
       "</table>\n"
      ],
      "text/latex": [
       "\\begin{tabular}{r|lll}\n",
       " fit & lwr & upr\\\\\n",
       "\\hline\n",
       "\t 46720.76  & -35236.56 & 128678.1 \\\\\n",
       "\\end{tabular}\n"
      ],
      "text/markdown": [
       "\n",
       "| fit | lwr | upr |\n",
       "|---|---|---|\n",
       "| 46720.76  | -35236.56 | 128678.1  |\n",
       "\n"
      ],
      "text/plain": [
       "  fit      lwr       upr     \n",
       "1 46720.76 -35236.56 128678.1"
      ]
     },
     "metadata": {},
     "output_type": "display_data"
    }
   ],
   "source": [
    "pred1 = data.frame(Age=c(35), AverageDrive=c(287), DrivingAccuracy=c(64), GreensonRegulation=(64.9), AverageNumofPutts=c(1.778), SavePercent=c(48), NumEvents=c(26))\n",
    "predict(model1, pred1, interval=\"prediction\", level=0.95, type=\"response\")"
   ]
  },
  {
   "cell_type": "markdown",
   "metadata": {},
   "source": [
    "As we can see the fitted value is 46721 and the interval estimation is from -35237 to 128678. However, the negative part doesn't make any sense since the winning money cannot be negative.\n",
    "### 8. Similarly, make another prediction for the case of:\n",
    "### Age = 42, AverageDrive = 295, DrivingAccuracy = 69, GreensonRegulation = 67.7, AverageNumofPutts = 1.80, SavePercent = 54, NumEvents = 30\n",
    "### The prediction should again include the fitted value and interval estimation.  Compare the interval from question 8, what do you observe?  For example, which interval is wider?  And why?\n",
    "### *Answer:*\n",
    "I use the following code to make the prediction."
   ]
  },
  {
   "cell_type": "code",
   "execution_count": 6,
   "metadata": {},
   "outputs": [
    {
     "data": {
      "text/html": [
       "<table>\n",
       "<thead><tr><th scope=col>fit</th><th scope=col>lwr</th><th scope=col>upr</th></tr></thead>\n",
       "<tbody>\n",
       "\t<tr><td>34218.97</td><td>-49843.5</td><td>118281.4</td></tr>\n",
       "</tbody>\n",
       "</table>\n"
      ],
      "text/latex": [
       "\\begin{tabular}{r|lll}\n",
       " fit & lwr & upr\\\\\n",
       "\\hline\n",
       "\t 34218.97 & -49843.5 & 118281.4\\\\\n",
       "\\end{tabular}\n"
      ],
      "text/markdown": [
       "\n",
       "| fit | lwr | upr |\n",
       "|---|---|---|\n",
       "| 34218.97 | -49843.5 | 118281.4 |\n",
       "\n"
      ],
      "text/plain": [
       "  fit      lwr      upr     \n",
       "1 34218.97 -49843.5 118281.4"
      ]
     },
     "metadata": {},
     "output_type": "display_data"
    }
   ],
   "source": [
    "pred2 = data.frame(Age=c(42), AverageDrive=c(295), DrivingAccuracy=c(69), GreensonRegulation=(67.7), AverageNumofPutts=c(1.8), SavePercent=c(54), NumEvents=c(30))\n",
    "predict(model1, pred2, interval=\"prediction\", level=0.95, type=\"response\")"
   ]
  },
  {
   "cell_type": "code",
   "execution_count": 7,
   "metadata": {},
   "outputs": [
    {
     "data": {
      "text/plain": [
       "               Name          Age         AverageDrive   DrivingAccuracy\n",
       " Aaron Baddeley  :  1   Min.   :21.00   Min.   :268.2   Min.   :49.90  \n",
       " Adam Scott      :  1   1st Qu.:31.00   1st Qu.:281.3   1st Qu.:60.95  \n",
       " Alex Cejka      :  1   Median :35.50   Median :287.2   Median :64.30  \n",
       " Andre Stolz     :  1   Mean   :35.96   Mean   :287.2   Mean   :64.08  \n",
       " Arjun Atwal     :  1   3rd Qu.:40.25   3rd Qu.:292.1   3rd Qu.:67.80  \n",
       " Arron Oberholser:  1   Max.   :51.00   Max.   :314.4   Max.   :77.20  \n",
       " (Other)         :190                                                  \n",
       " GreensonRegulation AverageNumofPutts  SavePercent      MoneyRank     \n",
       " Min.   :54.70      Min.   :1.723     Min.   :31.80   Min.   :  1.00  \n",
       " 1st Qu.:63.00      1st Qu.:1.762     1st Qu.:45.67   1st Qu.: 49.75  \n",
       " Median :64.90      Median :1.776     Median :49.00   Median : 99.50  \n",
       " Mean   :64.90      Mean   :1.778     Mean   :48.97   Mean   :101.80  \n",
       " 3rd Qu.:66.83      3rd Qu.:1.796     3rd Qu.:52.42   3rd Qu.:151.25  \n",
       " Max.   :73.30      Max.   :1.847     Max.   :62.30   Max.   :245.00  \n",
       "                                                                      \n",
       "   NumEvents     TotalWinnings      AverageWinnings \n",
       " Min.   :15.00   Min.   :   21250   Min.   :   850  \n",
       " 1st Qu.:23.00   1st Qu.:  436617   1st Qu.: 15749  \n",
       " Median :27.00   Median :  814989   Median : 30849  \n",
       " Mean   :26.19   Mean   : 1134632   Mean   : 46549  \n",
       " 3rd Qu.:30.00   3rd Qu.: 1407922   3rd Qu.: 56209  \n",
       " Max.   :36.00   Max.   :10905167   Max.   :376040  \n",
       "                                                    "
      ]
     },
     "metadata": {},
     "output_type": "display_data"
    }
   ],
   "source": [
    "summary(df)"
   ]
  },
  {
   "cell_type": "markdown",
   "metadata": {},
   "source": [
    "As we can see the fitted value of the prediction is 34219 and the estimation interval is between -49844 and 118281. Comparing the interval from last question, the interval in this question is wider. Therefore, I get the summary of the PGA dataset. From the summary we can find that the median of Age is 35.5, the median of AverageDrive is 287.2, the median of DrivingAccuracy is 64.3, the median of GreensonRegulation is 64.9, the median of AverageNumofPutts is 1.776, the median of SavePercent is 49 and the median of NumEvents is 27. And the prediction case in question 7 is closer to the median of all the features. The reason why the interval is widers on two sides is because we have much larger variability in estimation of the linear regression line and relatively less data points on two sides.\n",
    "### 9. Obtain the standardized regression coefficients and compare the influence of all variables. \n",
    "### *Answer:*\n",
    "I use the following code to perform the standardized regression."
   ]
  },
  {
   "cell_type": "code",
   "execution_count": 8,
   "metadata": {},
   "outputs": [
    {
     "data": {
      "text/plain": [
       "\n",
       "Call:\n",
       "lm(formula = AverageWinnings ~ Age + AverageDrive + DrivingAccuracy + \n",
       "    GreensonRegulation + AverageNumofPutts + SavePercent + NumEvents, \n",
       "    data = normal_df)\n",
       "\n",
       "Residuals:\n",
       "    Min      1Q  Median      3Q     Max \n",
       "-1.3037 -0.4033 -0.1225  0.3118  4.5086 \n",
       "\n",
       "Coefficients:\n",
       "                     Estimate Std. Error t value Pr(>|t|)    \n",
       "(Intercept)         7.714e-16  5.382e-02   0.000  1.00000    \n",
       "Age                -6.831e-02  6.042e-02  -1.131  0.25968    \n",
       "AverageDrive       -1.426e-02  8.538e-02  -0.167  0.86755    \n",
       "DrivingAccuracy    -2.279e-01  8.245e-02  -2.764  0.00628 ** \n",
       "GreensonRegulation  4.388e-01  6.759e-02   6.493 7.30e-10 ***\n",
       "AverageNumofPutts  -2.971e-01  5.912e-02  -5.025 1.17e-06 ***\n",
       "SavePercent         1.396e-01  5.877e-02   2.375  0.01853 *  \n",
       "NumEvents          -2.716e-01  5.539e-02  -4.904 2.03e-06 ***\n",
       "---\n",
       "Signif. codes:  0 '***' 0.001 '**' 0.01 '*' 0.05 '.' 0.1 ' ' 1\n",
       "\n",
       "Residual standard error: 0.7535 on 188 degrees of freedom\n",
       "Multiple R-squared:  0.4527,\tAdjusted R-squared:  0.4323 \n",
       "F-statistic: 22.21 on 7 and 188 DF,  p-value: < 2.2e-16\n"
      ]
     },
     "metadata": {},
     "output_type": "display_data"
    }
   ],
   "source": [
    "normal_df = as.data.frame(apply(df[,2:11], 2, function(x){(x-mean(x))/sd(x)}))\n",
    "model1_normal <- lm(AverageWinnings ~ Age + AverageDrive + DrivingAccuracy + GreensonRegulation + AverageNumofPutts + SavePercent + NumEvents, data=normal_df)\n",
    "summary(model1_normal)"
   ]
  },
  {
   "cell_type": "code",
   "execution_count": 9,
   "metadata": {},
   "outputs": [
    {
     "data": {
      "text/plain": [
       "\n",
       "Call:\n",
       "lm(formula = AverageWinnings ~ Age + AverageDrive + DrivingAccuracy + \n",
       "    GreensonRegulation + AverageNumofPutts + SavePercent + NumEvents, \n",
       "    data = df)\n",
       "\n",
       "Residuals:\n",
       "   Min     1Q Median     3Q    Max \n",
       "-71690 -22176  -6735  17147 247928 \n",
       "\n",
       "Coefficients:\n",
       "                     Estimate Std. Error t value Pr(>|t|)    \n",
       "(Intercept)         945579.88  305886.59   3.091  0.00230 ** \n",
       "Age                   -587.13     519.32  -1.131  0.25968    \n",
       "AverageDrive           -94.76     567.42  -0.167  0.86755    \n",
       "DrivingAccuracy      -2360.57     854.02  -2.764  0.00628 ** \n",
       "GreensonRegulation    8466.04    1303.87   6.493 7.30e-10 ***\n",
       "AverageNumofPutts  -694226.49  138155.99  -5.025 1.17e-06 ***\n",
       "SavePercent           1395.67     587.54   2.375  0.01853 *  \n",
       "NumEvents            -3159.22     644.24  -4.904 2.03e-06 ***\n",
       "---\n",
       "Signif. codes:  0 '***' 0.001 '**' 0.01 '*' 0.05 '.' 0.1 ' ' 1\n",
       "\n",
       "Residual standard error: 41430 on 188 degrees of freedom\n",
       "Multiple R-squared:  0.4527,\tAdjusted R-squared:  0.4323 \n",
       "F-statistic: 22.21 on 7 and 188 DF,  p-value: < 2.2e-16\n"
      ]
     },
     "metadata": {},
     "output_type": "display_data"
    }
   ],
   "source": [
    "summary(model1)"
   ]
  },
  {
   "cell_type": "markdown",
   "metadata": {},
   "source": [
    "As we can see by comparing with the original regression, only estimates change."
   ]
  }
 ],
 "metadata": {
  "kernelspec": {
   "display_name": "R",
   "language": "R",
   "name": "ir"
  },
  "language_info": {
   "codemirror_mode": "r",
   "file_extension": ".r",
   "mimetype": "text/x-r-source",
   "name": "R",
   "pygments_lexer": "r",
   "version": "3.5.0"
  }
 },
 "nbformat": 4,
 "nbformat_minor": 2
}
